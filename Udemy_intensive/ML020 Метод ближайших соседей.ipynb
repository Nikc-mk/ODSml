{
 "cells": [
  {
   "cell_type": "markdown",
   "metadata": {},
   "source": [
    "## Постановка задачи\n",
    "Загрузим данные и разделим выборку на обучающую/проверочную в соотношении 80/20.\n",
    "\n",
    "Применим метод ближайших соседей (kNN) для классификации скоринга. Будем использовать только биометрические данные.\n",
    "\n",
    "Проверим качество предсказания через каппа-метрику и матрицу неточностей.\n",
    "\n",
    "Данные:\n",
    "* https://video.ittensive.com/machine-learning/prudential/train.csv.gz\n",
    "\n",
    "Соревнование: https://www.kaggle.com/c/prudential-life-insurance-assessment/\n",
    "\n",
    "© ITtensive, 2020"
   ]
  },
  {
   "cell_type": "markdown",
   "metadata": {},
   "source": [
    "### Подключение библиотек"
   ]
  },
  {
   "cell_type": "code",
   "execution_count": 1,
   "metadata": {},
   "outputs": [],
   "source": [
    "import pandas as pd\n",
    "import numpy as np\n",
    "from sklearn.model_selection import train_test_split\n",
    "from sklearn.metrics import cohen_kappa_score, confusion_matrix\n",
    "from sklearn.neighbors import KNeighborsClassifier"
   ]
  },
  {
   "cell_type": "markdown",
   "metadata": {},
   "source": [
    "### Загрузка данных"
   ]
  },
  {
   "cell_type": "code",
   "execution_count": 2,
   "metadata": {},
   "outputs": [
    {
     "name": "stdout",
     "output_type": "stream",
     "text": [
      "<class 'pandas.core.frame.DataFrame'>\n",
      "RangeIndex: 59381 entries, 0 to 59380\n",
      "Columns: 128 entries, Id to Response\n",
      "dtypes: float64(18), int64(109), object(1)\n",
      "memory usage: 58.0+ MB\n"
     ]
    }
   ],
   "source": [
    "data = pd.read_csv(\"https://video.ittensive.com/machine-learning/prudential/train.csv.gz\")\n",
    "data.info()"
   ]
  },
  {
   "cell_type": "markdown",
   "metadata": {},
   "source": [
    "### Разделение данных"
   ]
  },
  {
   "cell_type": "code",
   "execution_count": 8,
   "outputs": [
    {
     "name": "stdout",
     "output_type": "stream",
     "text": [
      "['Ins_Age', 'Ht', 'Wt', 'BMI', 'Response', 'Insurance_History_1', 'Insurance_History_2', 'Insurance_History_3', 'Insurance_History_4', 'Insurance_History_5', 'Insurance_History_6', 'Insurance_History_7', 'Insurance_History_8', 'Insurance_History_9', 'Family_Hist_1', 'Family_Hist_2', 'Family_Hist_3', 'Family_Hist_4', 'Family_Hist_5', 'Medical_History_1', 'Medical_History_2', 'Medical_History_3', 'Medical_History_4', 'Medical_History_5', 'Medical_History_6', 'Medical_History_7', 'Medical_History_8', 'Medical_History_9', 'Medical_History_10', 'Medical_History_11', 'Medical_History_12', 'Medical_History_13', 'Medical_History_14', 'Medical_History_15', 'Medical_History_16', 'Medical_History_17', 'Medical_History_18', 'Medical_History_19', 'Medical_History_20', 'Medical_History_21', 'Medical_History_22', 'Medical_History_23', 'Medical_History_24', 'Medical_History_25', 'Medical_History_26', 'Medical_History_27', 'Medical_History_28', 'Medical_History_29', 'Medical_History_30', 'Medical_History_31', 'Medical_History_32', 'Medical_History_33', 'Medical_History_34', 'Medical_History_35', 'Medical_History_36', 'Medical_History_37', 'Medical_History_38', 'Medical_History_39', 'Medical_History_40', 'Medical_History_41', 'InsurеdInfo_1', 'InsurеdInfo_2', 'InsurеdInfo_3', 'InsurеdInfo_4', 'InsurеdInfo_5', 'InsurеdInfo_6', 'InsurеdInfo_7']\n"
     ]
    }
   ],
   "source": [
    "column_data = ['Ins_Age', 'Ht', 'Wt', 'BMI','Response']\n",
    "for i in range(1,10):\n",
    "    column_data.append(f'Insurance_History_{i}')\n",
    "\n",
    "for i in range(1,6):\n",
    "    column_data.append(f'Family_Hist_{i}')\n",
    "\n",
    "for i in range(1,42):\n",
    "    column_data.append(f'Medical_History_{i}')\n",
    "\n",
    "for i in range(1,8):\n",
    "    column_data.append(f'InsurеdInfo_{i}')\n",
    "\n",
    "print(column_data)"
   ],
   "metadata": {
    "collapsed": false
   }
  },
  {
   "cell_type": "code",
   "execution_count": 9,
   "metadata": {},
   "outputs": [
    {
     "data": {
      "text/plain": "        Ins_Age        Ht        Wt       BMI  Response  Insurance_History_1  \\\n39868  0.298507  0.781818  0.278243  0.379321         8                    2   \n38496  0.119403  0.618182  0.198745  0.391944         8                    2   \n22601  0.208955  0.618182  0.288703  0.571939         5                    2   \n49786  0.313433  0.727273  0.271967  0.418682         7                    2   \n3145   0.447761  0.800000  0.508368  0.707001         2                    1   \n\n       Insurance_History_2  Insurance_History_3  Insurance_History_4  \\\n39868                    1                    3                    1   \n38496                    1                    3                    2   \n22601                    1                    1                    3   \n49786                    1                    3                    2   \n3145                     1                    3                    1   \n\n       Insurance_History_5  ...  Medical_History_39  Medical_History_40  \\\n39868             0.000167  ...                   1                   3   \n38496             0.000313  ...                   3                   3   \n22601                  NaN  ...                   3                   3   \n49786             0.001600  ...                   3                   3   \n3145              0.001000  ...                   3                   3   \n\n       Medical_History_41  InsurеdInfo_1  InsurеdInfo_2  InsurеdInfo_3  \\\n39868                   1            NaN            NaN            NaN   \n38496                   1            NaN            NaN            NaN   \n22601                   1            NaN            NaN            NaN   \n49786                   1            NaN            NaN            NaN   \n3145                    1            NaN            NaN            NaN   \n\n       InsurеdInfo_4  InsurеdInfo_5  InsurеdInfo_6  InsurеdInfo_7  \n39868            NaN            NaN            NaN            NaN  \n38496            NaN            NaN            NaN            NaN  \n22601            NaN            NaN            NaN            NaN  \n49786            NaN            NaN            NaN            NaN  \n3145             NaN            NaN            NaN            NaN  \n\n[5 rows x 67 columns]",
      "text/html": "<div>\n<style scoped>\n    .dataframe tbody tr th:only-of-type {\n        vertical-align: middle;\n    }\n\n    .dataframe tbody tr th {\n        vertical-align: top;\n    }\n\n    .dataframe thead th {\n        text-align: right;\n    }\n</style>\n<table border=\"1\" class=\"dataframe\">\n  <thead>\n    <tr style=\"text-align: right;\">\n      <th></th>\n      <th>Ins_Age</th>\n      <th>Ht</th>\n      <th>Wt</th>\n      <th>BMI</th>\n      <th>Response</th>\n      <th>Insurance_History_1</th>\n      <th>Insurance_History_2</th>\n      <th>Insurance_History_3</th>\n      <th>Insurance_History_4</th>\n      <th>Insurance_History_5</th>\n      <th>...</th>\n      <th>Medical_History_39</th>\n      <th>Medical_History_40</th>\n      <th>Medical_History_41</th>\n      <th>InsurеdInfo_1</th>\n      <th>InsurеdInfo_2</th>\n      <th>InsurеdInfo_3</th>\n      <th>InsurеdInfo_4</th>\n      <th>InsurеdInfo_5</th>\n      <th>InsurеdInfo_6</th>\n      <th>InsurеdInfo_7</th>\n    </tr>\n  </thead>\n  <tbody>\n    <tr>\n      <th>39868</th>\n      <td>0.298507</td>\n      <td>0.781818</td>\n      <td>0.278243</td>\n      <td>0.379321</td>\n      <td>8</td>\n      <td>2</td>\n      <td>1</td>\n      <td>3</td>\n      <td>1</td>\n      <td>0.000167</td>\n      <td>...</td>\n      <td>1</td>\n      <td>3</td>\n      <td>1</td>\n      <td>NaN</td>\n      <td>NaN</td>\n      <td>NaN</td>\n      <td>NaN</td>\n      <td>NaN</td>\n      <td>NaN</td>\n      <td>NaN</td>\n    </tr>\n    <tr>\n      <th>38496</th>\n      <td>0.119403</td>\n      <td>0.618182</td>\n      <td>0.198745</td>\n      <td>0.391944</td>\n      <td>8</td>\n      <td>2</td>\n      <td>1</td>\n      <td>3</td>\n      <td>2</td>\n      <td>0.000313</td>\n      <td>...</td>\n      <td>3</td>\n      <td>3</td>\n      <td>1</td>\n      <td>NaN</td>\n      <td>NaN</td>\n      <td>NaN</td>\n      <td>NaN</td>\n      <td>NaN</td>\n      <td>NaN</td>\n      <td>NaN</td>\n    </tr>\n    <tr>\n      <th>22601</th>\n      <td>0.208955</td>\n      <td>0.618182</td>\n      <td>0.288703</td>\n      <td>0.571939</td>\n      <td>5</td>\n      <td>2</td>\n      <td>1</td>\n      <td>1</td>\n      <td>3</td>\n      <td>NaN</td>\n      <td>...</td>\n      <td>3</td>\n      <td>3</td>\n      <td>1</td>\n      <td>NaN</td>\n      <td>NaN</td>\n      <td>NaN</td>\n      <td>NaN</td>\n      <td>NaN</td>\n      <td>NaN</td>\n      <td>NaN</td>\n    </tr>\n    <tr>\n      <th>49786</th>\n      <td>0.313433</td>\n      <td>0.727273</td>\n      <td>0.271967</td>\n      <td>0.418682</td>\n      <td>7</td>\n      <td>2</td>\n      <td>1</td>\n      <td>3</td>\n      <td>2</td>\n      <td>0.001600</td>\n      <td>...</td>\n      <td>3</td>\n      <td>3</td>\n      <td>1</td>\n      <td>NaN</td>\n      <td>NaN</td>\n      <td>NaN</td>\n      <td>NaN</td>\n      <td>NaN</td>\n      <td>NaN</td>\n      <td>NaN</td>\n    </tr>\n    <tr>\n      <th>3145</th>\n      <td>0.447761</td>\n      <td>0.800000</td>\n      <td>0.508368</td>\n      <td>0.707001</td>\n      <td>2</td>\n      <td>1</td>\n      <td>1</td>\n      <td>3</td>\n      <td>1</td>\n      <td>0.001000</td>\n      <td>...</td>\n      <td>3</td>\n      <td>3</td>\n      <td>1</td>\n      <td>NaN</td>\n      <td>NaN</td>\n      <td>NaN</td>\n      <td>NaN</td>\n      <td>NaN</td>\n      <td>NaN</td>\n      <td>NaN</td>\n    </tr>\n  </tbody>\n</table>\n<p>5 rows × 67 columns</p>\n</div>"
     },
     "execution_count": 9,
     "metadata": {},
     "output_type": "execute_result"
    }
   ],
   "source": [
    "data = pd.DataFrame(data=data, columns=column_data)"
   ]
  },
  {
   "cell_type": "markdown",
   "source": [
    "Заполняем пропуски -1"
   ],
   "metadata": {
    "collapsed": false
   }
  },
  {
   "cell_type": "code",
   "execution_count": 11,
   "outputs": [
    {
     "name": "stdout",
     "output_type": "stream",
     "text": [
      "<class 'pandas.core.frame.DataFrame'>\n",
      "RangeIndex: 59381 entries, 0 to 59380\n",
      "Data columns (total 67 columns):\n",
      " #   Column               Non-Null Count  Dtype  \n",
      "---  ------               --------------  -----  \n",
      " 0   Ins_Age              59381 non-null  float64\n",
      " 1   Ht                   59381 non-null  float64\n",
      " 2   Wt                   59381 non-null  float64\n",
      " 3   BMI                  59381 non-null  float64\n",
      " 4   Response             59381 non-null  int64  \n",
      " 5   Insurance_History_1  59381 non-null  int64  \n",
      " 6   Insurance_History_2  59381 non-null  int64  \n",
      " 7   Insurance_History_3  59381 non-null  int64  \n",
      " 8   Insurance_History_4  59381 non-null  int64  \n",
      " 9   Insurance_History_5  59381 non-null  float64\n",
      " 10  Insurance_History_6  59381 non-null  float64\n",
      " 11  Insurance_History_7  59381 non-null  int64  \n",
      " 12  Insurance_History_8  59381 non-null  int64  \n",
      " 13  Insurance_History_9  59381 non-null  int64  \n",
      " 14  Family_Hist_1        59381 non-null  int64  \n",
      " 15  Family_Hist_2        59381 non-null  float64\n",
      " 16  Family_Hist_3        59381 non-null  float64\n",
      " 17  Family_Hist_4        59381 non-null  float64\n",
      " 18  Family_Hist_5        59381 non-null  float64\n",
      " 19  Medical_History_1    59381 non-null  float64\n",
      " 20  Medical_History_2    59381 non-null  int64  \n",
      " 21  Medical_History_3    59381 non-null  int64  \n",
      " 22  Medical_History_4    59381 non-null  int64  \n",
      " 23  Medical_History_5    59381 non-null  int64  \n",
      " 24  Medical_History_6    59381 non-null  int64  \n",
      " 25  Medical_History_7    59381 non-null  int64  \n",
      " 26  Medical_History_8    59381 non-null  int64  \n",
      " 27  Medical_History_9    59381 non-null  int64  \n",
      " 28  Medical_History_10   59381 non-null  float64\n",
      " 29  Medical_History_11   59381 non-null  int64  \n",
      " 30  Medical_History_12   59381 non-null  int64  \n",
      " 31  Medical_History_13   59381 non-null  int64  \n",
      " 32  Medical_History_14   59381 non-null  int64  \n",
      " 33  Medical_History_15   59381 non-null  float64\n",
      " 34  Medical_History_16   59381 non-null  int64  \n",
      " 35  Medical_History_17   59381 non-null  int64  \n",
      " 36  Medical_History_18   59381 non-null  int64  \n",
      " 37  Medical_History_19   59381 non-null  int64  \n",
      " 38  Medical_History_20   59381 non-null  int64  \n",
      " 39  Medical_History_21   59381 non-null  int64  \n",
      " 40  Medical_History_22   59381 non-null  int64  \n",
      " 41  Medical_History_23   59381 non-null  int64  \n",
      " 42  Medical_History_24   59381 non-null  float64\n",
      " 43  Medical_History_25   59381 non-null  int64  \n",
      " 44  Medical_History_26   59381 non-null  int64  \n",
      " 45  Medical_History_27   59381 non-null  int64  \n",
      " 46  Medical_History_28   59381 non-null  int64  \n",
      " 47  Medical_History_29   59381 non-null  int64  \n",
      " 48  Medical_History_30   59381 non-null  int64  \n",
      " 49  Medical_History_31   59381 non-null  int64  \n",
      " 50  Medical_History_32   59381 non-null  float64\n",
      " 51  Medical_History_33   59381 non-null  int64  \n",
      " 52  Medical_History_34   59381 non-null  int64  \n",
      " 53  Medical_History_35   59381 non-null  int64  \n",
      " 54  Medical_History_36   59381 non-null  int64  \n",
      " 55  Medical_History_37   59381 non-null  int64  \n",
      " 56  Medical_History_38   59381 non-null  int64  \n",
      " 57  Medical_History_39   59381 non-null  int64  \n",
      " 58  Medical_History_40   59381 non-null  int64  \n",
      " 59  Medical_History_41   59381 non-null  int64  \n",
      " 60  InsurеdInfo_1        59381 non-null  float64\n",
      " 61  InsurеdInfo_2        59381 non-null  float64\n",
      " 62  InsurеdInfo_3        59381 non-null  float64\n",
      " 63  InsurеdInfo_4        59381 non-null  float64\n",
      " 64  InsurеdInfo_5        59381 non-null  float64\n",
      " 65  InsurеdInfo_6        59381 non-null  float64\n",
      " 66  InsurеdInfo_7        59381 non-null  float64\n",
      "dtypes: float64(22), int64(45)\n",
      "memory usage: 30.4 MB\n"
     ]
    }
   ],
   "source": [
    "data.fillna(value=-1, inplace=True)\n",
    "data.info()"
   ],
   "metadata": {
    "collapsed": false
   }
  },
  {
   "cell_type": "code",
   "execution_count": 12,
   "outputs": [
    {
     "data": {
      "text/plain": "        Ins_Age        Ht        Wt       BMI  Response  Insurance_History_1  \\\n48300  0.552239  0.709091  0.257322  0.411314         7                    2   \n56994  0.522388  0.781818  0.414226  0.587636         6                    1   \n31310  0.567164  0.690909  0.267782  0.447648         8                    2   \n58363  0.626866  0.727273  0.263598  0.404724         8                    1   \n15244  0.373134  0.545455  0.184100  0.438930         8                    2   \n\n       Insurance_History_2  Insurance_History_3  Insurance_History_4  \\\n48300                    1                    3                    1   \n56994                    1                    3                    1   \n31310                    1                    3                    1   \n58363                    3                    3                    1   \n15244                    1                    1                    3   \n\n       Insurance_History_5  ...  Medical_History_39  Medical_History_40  \\\n48300             0.000667  ...                   3                   3   \n56994             0.001333  ...                   3                   3   \n31310             0.001667  ...                   3                   3   \n58363             0.001667  ...                   3                   3   \n15244            -1.000000  ...                   3                   3   \n\n       Medical_History_41  InsurеdInfo_1  InsurеdInfo_2  InsurеdInfo_3  \\\n48300                   1           -1.0           -1.0           -1.0   \n56994                   1           -1.0           -1.0           -1.0   \n31310                   1           -1.0           -1.0           -1.0   \n58363                   3           -1.0           -1.0           -1.0   \n15244                   3           -1.0           -1.0           -1.0   \n\n       InsurеdInfo_4  InsurеdInfo_5  InsurеdInfo_6  InsurеdInfo_7  \n48300           -1.0           -1.0           -1.0           -1.0  \n56994           -1.0           -1.0           -1.0           -1.0  \n31310           -1.0           -1.0           -1.0           -1.0  \n58363           -1.0           -1.0           -1.0           -1.0  \n15244           -1.0           -1.0           -1.0           -1.0  \n\n[5 rows x 67 columns]",
      "text/html": "<div>\n<style scoped>\n    .dataframe tbody tr th:only-of-type {\n        vertical-align: middle;\n    }\n\n    .dataframe tbody tr th {\n        vertical-align: top;\n    }\n\n    .dataframe thead th {\n        text-align: right;\n    }\n</style>\n<table border=\"1\" class=\"dataframe\">\n  <thead>\n    <tr style=\"text-align: right;\">\n      <th></th>\n      <th>Ins_Age</th>\n      <th>Ht</th>\n      <th>Wt</th>\n      <th>BMI</th>\n      <th>Response</th>\n      <th>Insurance_History_1</th>\n      <th>Insurance_History_2</th>\n      <th>Insurance_History_3</th>\n      <th>Insurance_History_4</th>\n      <th>Insurance_History_5</th>\n      <th>...</th>\n      <th>Medical_History_39</th>\n      <th>Medical_History_40</th>\n      <th>Medical_History_41</th>\n      <th>InsurеdInfo_1</th>\n      <th>InsurеdInfo_2</th>\n      <th>InsurеdInfo_3</th>\n      <th>InsurеdInfo_4</th>\n      <th>InsurеdInfo_5</th>\n      <th>InsurеdInfo_6</th>\n      <th>InsurеdInfo_7</th>\n    </tr>\n  </thead>\n  <tbody>\n    <tr>\n      <th>48300</th>\n      <td>0.552239</td>\n      <td>0.709091</td>\n      <td>0.257322</td>\n      <td>0.411314</td>\n      <td>7</td>\n      <td>2</td>\n      <td>1</td>\n      <td>3</td>\n      <td>1</td>\n      <td>0.000667</td>\n      <td>...</td>\n      <td>3</td>\n      <td>3</td>\n      <td>1</td>\n      <td>-1.0</td>\n      <td>-1.0</td>\n      <td>-1.0</td>\n      <td>-1.0</td>\n      <td>-1.0</td>\n      <td>-1.0</td>\n      <td>-1.0</td>\n    </tr>\n    <tr>\n      <th>56994</th>\n      <td>0.522388</td>\n      <td>0.781818</td>\n      <td>0.414226</td>\n      <td>0.587636</td>\n      <td>6</td>\n      <td>1</td>\n      <td>1</td>\n      <td>3</td>\n      <td>1</td>\n      <td>0.001333</td>\n      <td>...</td>\n      <td>3</td>\n      <td>3</td>\n      <td>1</td>\n      <td>-1.0</td>\n      <td>-1.0</td>\n      <td>-1.0</td>\n      <td>-1.0</td>\n      <td>-1.0</td>\n      <td>-1.0</td>\n      <td>-1.0</td>\n    </tr>\n    <tr>\n      <th>31310</th>\n      <td>0.567164</td>\n      <td>0.690909</td>\n      <td>0.267782</td>\n      <td>0.447648</td>\n      <td>8</td>\n      <td>2</td>\n      <td>1</td>\n      <td>3</td>\n      <td>1</td>\n      <td>0.001667</td>\n      <td>...</td>\n      <td>3</td>\n      <td>3</td>\n      <td>1</td>\n      <td>-1.0</td>\n      <td>-1.0</td>\n      <td>-1.0</td>\n      <td>-1.0</td>\n      <td>-1.0</td>\n      <td>-1.0</td>\n      <td>-1.0</td>\n    </tr>\n    <tr>\n      <th>58363</th>\n      <td>0.626866</td>\n      <td>0.727273</td>\n      <td>0.263598</td>\n      <td>0.404724</td>\n      <td>8</td>\n      <td>1</td>\n      <td>3</td>\n      <td>3</td>\n      <td>1</td>\n      <td>0.001667</td>\n      <td>...</td>\n      <td>3</td>\n      <td>3</td>\n      <td>3</td>\n      <td>-1.0</td>\n      <td>-1.0</td>\n      <td>-1.0</td>\n      <td>-1.0</td>\n      <td>-1.0</td>\n      <td>-1.0</td>\n      <td>-1.0</td>\n    </tr>\n    <tr>\n      <th>15244</th>\n      <td>0.373134</td>\n      <td>0.545455</td>\n      <td>0.184100</td>\n      <td>0.438930</td>\n      <td>8</td>\n      <td>2</td>\n      <td>1</td>\n      <td>1</td>\n      <td>3</td>\n      <td>-1.000000</td>\n      <td>...</td>\n      <td>3</td>\n      <td>3</td>\n      <td>3</td>\n      <td>-1.0</td>\n      <td>-1.0</td>\n      <td>-1.0</td>\n      <td>-1.0</td>\n      <td>-1.0</td>\n      <td>-1.0</td>\n      <td>-1.0</td>\n    </tr>\n  </tbody>\n</table>\n<p>5 rows × 67 columns</p>\n</div>"
     },
     "execution_count": 12,
     "metadata": {},
     "output_type": "execute_result"
    }
   ],
   "source": [
    "data_train, data_test = train_test_split(data, test_size=0.2)\n",
    "data_train.head()"
   ],
   "metadata": {
    "collapsed": false
   }
  },
  {
   "cell_type": "markdown",
   "metadata": {},
   "source": [
    "### Расчет модели kNN (k ближайших соседей)\n",
    "Примените метод ближайших соседей (kNN) для классификации скоринга, используйте k=100. Используйте биометрические данные, все столбцы Insurance_History, Family_Hist, Medical_History и InsurеdInfo. Заполните отсутствующие значения -1.\n",
    "\n",
    "Проведите предсказание и проверьте качество через каппа-метрику."
   ]
  },
  {
   "cell_type": "code",
   "execution_count": 13,
   "metadata": {},
   "outputs": [],
   "source": [
    "#  Создает объект классификатора KNN\n",
    "knn100 = KNeighborsClassifier(n_neighbors=100)"
   ]
  },
  {
   "cell_type": "code",
   "execution_count": 15,
   "metadata": {},
   "outputs": [
    {
     "data": {
      "text/plain": "KNeighborsClassifier(n_neighbors=100)",
      "text/html": "<style>#sk-container-id-1 {color: black;background-color: white;}#sk-container-id-1 pre{padding: 0;}#sk-container-id-1 div.sk-toggleable {background-color: white;}#sk-container-id-1 label.sk-toggleable__label {cursor: pointer;display: block;width: 100%;margin-bottom: 0;padding: 0.3em;box-sizing: border-box;text-align: center;}#sk-container-id-1 label.sk-toggleable__label-arrow:before {content: \"▸\";float: left;margin-right: 0.25em;color: #696969;}#sk-container-id-1 label.sk-toggleable__label-arrow:hover:before {color: black;}#sk-container-id-1 div.sk-estimator:hover label.sk-toggleable__label-arrow:before {color: black;}#sk-container-id-1 div.sk-toggleable__content {max-height: 0;max-width: 0;overflow: hidden;text-align: left;background-color: #f0f8ff;}#sk-container-id-1 div.sk-toggleable__content pre {margin: 0.2em;color: black;border-radius: 0.25em;background-color: #f0f8ff;}#sk-container-id-1 input.sk-toggleable__control:checked~div.sk-toggleable__content {max-height: 200px;max-width: 100%;overflow: auto;}#sk-container-id-1 input.sk-toggleable__control:checked~label.sk-toggleable__label-arrow:before {content: \"▾\";}#sk-container-id-1 div.sk-estimator input.sk-toggleable__control:checked~label.sk-toggleable__label {background-color: #d4ebff;}#sk-container-id-1 div.sk-label input.sk-toggleable__control:checked~label.sk-toggleable__label {background-color: #d4ebff;}#sk-container-id-1 input.sk-hidden--visually {border: 0;clip: rect(1px 1px 1px 1px);clip: rect(1px, 1px, 1px, 1px);height: 1px;margin: -1px;overflow: hidden;padding: 0;position: absolute;width: 1px;}#sk-container-id-1 div.sk-estimator {font-family: monospace;background-color: #f0f8ff;border: 1px dotted black;border-radius: 0.25em;box-sizing: border-box;margin-bottom: 0.5em;}#sk-container-id-1 div.sk-estimator:hover {background-color: #d4ebff;}#sk-container-id-1 div.sk-parallel-item::after {content: \"\";width: 100%;border-bottom: 1px solid gray;flex-grow: 1;}#sk-container-id-1 div.sk-label:hover label.sk-toggleable__label {background-color: #d4ebff;}#sk-container-id-1 div.sk-serial::before {content: \"\";position: absolute;border-left: 1px solid gray;box-sizing: border-box;top: 0;bottom: 0;left: 50%;z-index: 0;}#sk-container-id-1 div.sk-serial {display: flex;flex-direction: column;align-items: center;background-color: white;padding-right: 0.2em;padding-left: 0.2em;position: relative;}#sk-container-id-1 div.sk-item {position: relative;z-index: 1;}#sk-container-id-1 div.sk-parallel {display: flex;align-items: stretch;justify-content: center;background-color: white;position: relative;}#sk-container-id-1 div.sk-item::before, #sk-container-id-1 div.sk-parallel-item::before {content: \"\";position: absolute;border-left: 1px solid gray;box-sizing: border-box;top: 0;bottom: 0;left: 50%;z-index: -1;}#sk-container-id-1 div.sk-parallel-item {display: flex;flex-direction: column;z-index: 1;position: relative;background-color: white;}#sk-container-id-1 div.sk-parallel-item:first-child::after {align-self: flex-end;width: 50%;}#sk-container-id-1 div.sk-parallel-item:last-child::after {align-self: flex-start;width: 50%;}#sk-container-id-1 div.sk-parallel-item:only-child::after {width: 0;}#sk-container-id-1 div.sk-dashed-wrapped {border: 1px dashed gray;margin: 0 0.4em 0.5em 0.4em;box-sizing: border-box;padding-bottom: 0.4em;background-color: white;}#sk-container-id-1 div.sk-label label {font-family: monospace;font-weight: bold;display: inline-block;line-height: 1.2em;}#sk-container-id-1 div.sk-label-container {text-align: center;}#sk-container-id-1 div.sk-container {/* jupyter's `normalize.less` sets `[hidden] { display: none; }` but bootstrap.min.css set `[hidden] { display: none !important; }` so we also need the `!important` here to be able to override the default hidden behavior on the sphinx rendered scikit-learn.org. See: https://github.com/scikit-learn/scikit-learn/issues/21755 */display: inline-block !important;position: relative;}#sk-container-id-1 div.sk-text-repr-fallback {display: none;}</style><div id=\"sk-container-id-1\" class=\"sk-top-container\"><div class=\"sk-text-repr-fallback\"><pre>KNeighborsClassifier(n_neighbors=100)</pre><b>In a Jupyter environment, please rerun this cell to show the HTML representation or trust the notebook. <br />On GitHub, the HTML representation is unable to render, please try loading this page with nbviewer.org.</b></div><div class=\"sk-container\" hidden><div class=\"sk-item\"><div class=\"sk-estimator sk-toggleable\"><input class=\"sk-toggleable__control sk-hidden--visually\" id=\"sk-estimator-id-1\" type=\"checkbox\" checked><label for=\"sk-estimator-id-1\" class=\"sk-toggleable__label sk-toggleable__label-arrow\">KNeighborsClassifier</label><div class=\"sk-toggleable__content\"><pre>KNeighborsClassifier(n_neighbors=100)</pre></div></div></div></div></div>"
     },
     "execution_count": 15,
     "metadata": {},
     "output_type": "execute_result"
    }
   ],
   "source": [
    "y = data_train[\"Response\"]\n",
    "x = data_train.drop(\"Response\", axis=1)\n",
    "\n",
    "knn100.fit(x, y)"
   ]
  },
  {
   "cell_type": "code",
   "execution_count": 17,
   "metadata": {},
   "outputs": [
    {
     "data": {
      "text/plain": "array([8, 8, 8, ..., 8, 2, 8])"
     },
     "execution_count": 17,
     "metadata": {},
     "output_type": "execute_result"
    }
   ],
   "source": [
    "y_test = data_test['Response']\n",
    "x_test = data_test.drop(\"Response\", axis=1)\n",
    "\n",
    "y_predict = knn100.predict(x_test)\n",
    "\n",
    "y_predict"
   ]
  },
  {
   "cell_type": "markdown",
   "metadata": {},
   "source": [
    "### Оценка модели"
   ]
  },
  {
   "cell_type": "code",
   "execution_count": 18,
   "metadata": {},
   "outputs": [
    {
     "name": "stdout",
     "output_type": "stream",
     "text": [
      "kNN, 100: 0.14712198263052279\n"
     ]
    }
   ],
   "source": [
    "print (\"kNN, 100:\",\n",
    "      cohen_kappa_score(y_predict, data_test[\"Response\"],\n",
    "                       weights=\"quadratic\"))"
   ]
  },
  {
   "cell_type": "code",
   "execution_count": null,
   "outputs": [],
   "source": [],
   "metadata": {
    "collapsed": false
   }
  }
 ],
 "metadata": {
  "kernelspec": {
   "display_name": "Python 3",
   "language": "python",
   "name": "python3"
  },
  "language_info": {
   "codemirror_mode": {
    "name": "ipython",
    "version": 3
   },
   "file_extension": ".py",
   "mimetype": "text/x-python",
   "name": "python",
   "nbconvert_exporter": "python",
   "pygments_lexer": "ipython3",
   "version": "3.7.6"
  }
 },
 "nbformat": 4,
 "nbformat_minor": 2
}
