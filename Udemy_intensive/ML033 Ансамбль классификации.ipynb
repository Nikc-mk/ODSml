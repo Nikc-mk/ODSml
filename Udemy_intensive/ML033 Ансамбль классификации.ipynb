{
 "cells": [
  {
   "cell_type": "markdown",
   "metadata": {
    "id": "_jSvvpoeDGdK"
   },
   "source": [
    "## Постановка задачи\n",
    "Загрузите данные, приведите их к числовым, заполните пропуски, нормализуйте данные и оптимизируйте память.\n",
    "\n",
    "Сформируйте параллельный ансамбль из CatBoost, градиентного бустинга, XGBoost и LightGBM. Используйте лучшие гиперпараметры, подобранные ранее, или найдите их через перекрестную проверку. Итоговое решение рассчитайте на основании самого точного предсказания класса у определенной модели ансамбля: выберите для каждого класса модель, которая предсказывает его лучше всего.\n",
    "\n",
    "Проведите расчеты и выгрузите результат в виде submission.csv\n",
    "\n",
    "Данные:\n",
    "* https://video.ittensive.com/machine-learning/prudential/train.csv.gz\n",
    "\n",
    "Соревнование: https://www.kaggle.com/c/prudential-life-insurance-assessment/\n",
    "\n",
    "© ITtensive, 2020"
   ]
  },
  {
   "cell_type": "markdown",
   "metadata": {
    "id": "Y5gplV88DGdV"
   },
   "source": [
    "### Подключение библиотек"
   ]
  },
  {
   "cell_type": "code",
   "execution_count": 14,
   "metadata": {
    "id": "ZdnKXK8cDGdW",
    "executionInfo": {
     "status": "ok",
     "timestamp": 1669705267293,
     "user_tz": -600,
     "elapsed": 342,
     "user": {
      "displayName": "Николай Матвеюк",
      "userId": "00647420100393264071"
     }
    }
   },
   "outputs": [],
   "source": [
    "import pandas as pd\n",
    "import numpy as np\n",
    "from sklearn.model_selection import train_test_split\n",
    "from sklearn.metrics import cohen_kappa_score, confusion_matrix, make_scorer\n",
    "from sklearn.linear_model import LogisticRegression\n",
    "from sklearn.svm import SVC\n",
    "from sklearn.ensemble import RandomForestClassifier\n",
    "from sklearn import preprocessing\n",
    "from xgboost import XGBClassifier\n",
    "import lightgbm as lgb\n",
    "from sklearn.ensemble import StackingClassifier"
   ]
  },
  {
   "cell_type": "markdown",
   "metadata": {
    "id": "k4cvNwDxDGdZ"
   },
   "source": [
    "### Загрузка данных"
   ]
  },
  {
   "cell_type": "code",
   "execution_count": 15,
   "metadata": {
    "colab": {
     "base_uri": "https://localhost:8080/"
    },
    "id": "gsp8j9sIDGda",
    "executionInfo": {
     "status": "ok",
     "timestamp": 1669705270670,
     "user_tz": -600,
     "elapsed": 2697,
     "user": {
      "displayName": "Николай Матвеюк",
      "userId": "00647420100393264071"
     }
    },
    "outputId": "f5ffdef5-6528-4984-9f9a-ecb11427e105"
   },
   "outputs": [
    {
     "output_type": "stream",
     "name": "stdout",
     "text": [
      "<class 'pandas.core.frame.DataFrame'>\n",
      "RangeIndex: 59381 entries, 0 to 59380\n",
      "Columns: 128 entries, Id to Response\n",
      "dtypes: float64(18), int64(109), object(1)\n",
      "memory usage: 58.0+ MB\n",
      "None\n"
     ]
    }
   ],
   "source": [
    "data = pd.read_csv(\"https://video.ittensive.com/machine-learning/prudential/train.csv.gz\")\n",
    "print (data.info())"
   ]
  },
  {
   "cell_type": "markdown",
   "metadata": {
    "id": "Pfu3MlIpDGdh"
   },
   "source": [
    "### Предобработка данных"
   ]
  },
  {
   "cell_type": "code",
   "execution_count": 16,
   "metadata": {
    "id": "4nlxweiHDGdj",
    "executionInfo": {
     "status": "ok",
     "timestamp": 1669705270671,
     "user_tz": -600,
     "elapsed": 15,
     "user": {
      "displayName": "Николай Матвеюк",
      "userId": "00647420100393264071"
     }
    }
   },
   "outputs": [],
   "source": [
    "data[\"Product_Info_2_1\"] = data[\"Product_Info_2\"].str.slice(0, 1)\n",
    "data[\"Product_Info_2_2\"] = pd.to_numeric(data[\"Product_Info_2\"].str.slice(1, 2))\n",
    "data.drop(labels=[\"Product_Info_2\"], axis=1, inplace=True)\n",
    "for l in data[\"Product_Info_2_1\"].unique():\n",
    "    data[\"Product_Info_2_1\" + l] = data[\"Product_Info_2_1\"].isin([l]).astype(\"int8\")\n",
    "data.drop(labels=[\"Product_Info_2_1\"], axis=1, inplace=True)\n",
    "data.fillna(value=-1, inplace=True)\n",
    "data[\"Response\"] = data[\"Response\"] - 1"
   ]
  },
  {
   "cell_type": "markdown",
   "metadata": {
    "id": "oK5gQY2xDGdl"
   },
   "source": [
    "### Набор столбцов для расчета"
   ]
  },
  {
   "cell_type": "code",
   "execution_count": 17,
   "metadata": {
    "colab": {
     "base_uri": "https://localhost:8080/"
    },
    "id": "RKEjB8ugDGdm",
    "executionInfo": {
     "status": "ok",
     "timestamp": 1669705270673,
     "user_tz": -600,
     "elapsed": 15,
     "user": {
      "displayName": "Николай Матвеюк",
      "userId": "00647420100393264071"
     }
    },
    "outputId": "e2b81468-973d-4b94-b3d4-8097ebc65f14"
   },
   "outputs": [
    {
     "output_type": "stream",
     "name": "stdout",
     "text": [
      "['Wt', 'Ht', 'Ins_Age', 'BMI', 'Insurance_History_1', 'Insurance_History_2', 'Insurance_History_3', 'Insurance_History_4', 'Insurance_History_5', 'Insurance_History_7', 'Insurance_History_8', 'Insurance_History_9', 'Medical_Keyword_1', 'Medical_Keyword_2', 'Medical_Keyword_3', 'Medical_Keyword_4', 'Medical_Keyword_5', 'Medical_Keyword_6', 'Medical_Keyword_7', 'Medical_Keyword_8', 'Medical_Keyword_9', 'Medical_Keyword_10', 'Medical_Keyword_11', 'Medical_Keyword_12', 'Medical_Keyword_13', 'Medical_Keyword_14', 'Medical_Keyword_15', 'Medical_Keyword_16', 'Medical_Keyword_17', 'Medical_Keyword_18', 'Medical_Keyword_19', 'Medical_Keyword_20', 'Medical_Keyword_21', 'Medical_Keyword_22', 'Medical_Keyword_23', 'Medical_Keyword_24', 'Medical_Keyword_25', 'Medical_Keyword_26', 'Medical_Keyword_27', 'Medical_Keyword_28', 'Medical_Keyword_29', 'Medical_Keyword_30', 'Medical_Keyword_31', 'Medical_Keyword_32', 'Medical_Keyword_33', 'Medical_Keyword_34', 'Medical_Keyword_35', 'Medical_Keyword_36', 'Medical_Keyword_37', 'Medical_Keyword_38', 'Medical_Keyword_39', 'Medical_Keyword_40', 'Medical_Keyword_41', 'Medical_Keyword_42', 'Medical_Keyword_43', 'Medical_Keyword_44', 'Medical_Keyword_45', 'Medical_Keyword_46', 'Medical_Keyword_47', 'Medical_Keyword_48', 'Family_Hist_1', 'Family_Hist_2', 'Family_Hist_3', 'Family_Hist_4', 'Family_Hist_5', 'Medical_History_1', 'Medical_History_2', 'Medical_History_3', 'Medical_History_4', 'Medical_History_5', 'Medical_History_6', 'Medical_History_7', 'Medical_History_8', 'Medical_History_9', 'Medical_History_10', 'Medical_History_11', 'Medical_History_12', 'Medical_History_13', 'Medical_History_14', 'Medical_History_15', 'Medical_History_16', 'Medical_History_17', 'Medical_History_18', 'Medical_History_19', 'Medical_History_20', 'Medical_History_21', 'Medical_History_22', 'Medical_History_23', 'Medical_History_24', 'Medical_History_25', 'Medical_History_26', 'Medical_History_27', 'Medical_History_28', 'Medical_History_29', 'Medical_History_30', 'Medical_History_31', 'Medical_History_32', 'Medical_History_33', 'Medical_History_34', 'Medical_History_35', 'Medical_History_36', 'Medical_History_37', 'Medical_History_38', 'Medical_History_39', 'Medical_History_40', 'Medical_History_41', 'Product_Info_1', 'Product_Info_3', 'Product_Info_4', 'Product_Info_5', 'Product_Info_6', 'Product_Info_7', 'Product_Info_2_2', 'Product_Info_2_1D', 'Product_Info_2_1A', 'Product_Info_2_1E', 'Product_Info_2_1C', 'Product_Info_2_1B']\n"
     ]
    }
   ],
   "source": [
    "columns_groups = [\"Insurance_History\", \"InsurеdInfo\", \"Medical_Keyword\",\n",
    "                  \"Family_Hist\", \"Medical_History\", \"Product_Info\"]\n",
    "columns = [\"Wt\", \"Ht\", \"Ins_Age\", \"BMI\"]\n",
    "for cg in columns_groups:\n",
    "    columns.extend(data.columns[data.columns.str.startswith(cg)])\n",
    "print (columns)"
   ]
  },
  {
   "cell_type": "markdown",
   "metadata": {
    "id": "mRRgwRU6DGdo"
   },
   "source": [
    "### Нормализация данных"
   ]
  },
  {
   "cell_type": "code",
   "execution_count": 18,
   "metadata": {
    "id": "6gM9TvQADGdp",
    "executionInfo": {
     "status": "ok",
     "timestamp": 1669705271126,
     "user_tz": -600,
     "elapsed": 464,
     "user": {
      "displayName": "Николай Матвеюк",
      "userId": "00647420100393264071"
     }
    }
   },
   "outputs": [],
   "source": [
    "scaler = preprocessing.StandardScaler()\n",
    "data_transformed = pd.DataFrame(scaler.fit_transform(pd.DataFrame(data,\n",
    "                                                     columns=columns)))\n",
    "columns_transformed = data_transformed.columns\n",
    "data_transformed[\"Response\"] = data[\"Response\"]"
   ]
  },
  {
   "cell_type": "markdown",
   "metadata": {
    "id": "C5NJYmVrDGdq"
   },
   "source": [
    "### Оптимизация памяти"
   ]
  },
  {
   "cell_type": "code",
   "execution_count": 19,
   "metadata": {
    "id": "QGkZQHtNDGdq",
    "executionInfo": {
     "status": "ok",
     "timestamp": 1669705271127,
     "user_tz": -600,
     "elapsed": 7,
     "user": {
      "displayName": "Николай Матвеюк",
      "userId": "00647420100393264071"
     }
    }
   },
   "outputs": [],
   "source": [
    "def reduce_mem_usage (df):\n",
    "    start_mem = df.memory_usage().sum() / 1024**2    \n",
    "    for col in df.columns:\n",
    "        col_type = df[col].dtypes\n",
    "        if str(col_type)[:5] == \"float\":\n",
    "            c_min = df[col].min()\n",
    "            c_max = df[col].max()\n",
    "            if c_min > np.finfo(\"f2\").min and c_max < np.finfo(\"f2\").max:\n",
    "                df[col] = df[col].astype(np.float16)\n",
    "            elif c_min > np.finfo(\"f4\").min and c_max < np.finfo(\"f4\").max:\n",
    "                df[col] = df[col].astype(np.float32)\n",
    "            else:\n",
    "                df[col] = df[col].astype(np.float64)\n",
    "        elif str(col_type)[:3] == \"int\":\n",
    "            c_min = df[col].min()\n",
    "            c_max = df[col].max()\n",
    "            if c_min > np.iinfo(\"i1\").min and c_max < np.iinfo(\"i1\").max:\n",
    "                df[col] = df[col].astype(np.int8)\n",
    "            elif c_min > np.iinfo(\"i2\").min and c_max < np.iinfo(\"i2\").max:\n",
    "                df[col] = df[col].astype(np.int16)\n",
    "            elif c_min > np.iinfo(\"i4\").min and c_max < np.iinfo(\"i4\").max:\n",
    "                df[col] = df[col].astype(np.int32)\n",
    "            elif c_min > np.iinfo(\"i8\").min and c_max < np.iinfo(\"i8\").max:\n",
    "                df[col] = df[col].astype(np.int64)\n",
    "        else:\n",
    "            df[col] = df[col].astype(\"category\")\n",
    "    end_mem = df.memory_usage().sum() / 1024**2\n",
    "    print('Потребление памяти меньше на', round(start_mem - end_mem, 2), 'Мб (минус', round(100 * (start_mem - end_mem) / start_mem, 1), '%)')\n",
    "    return df"
   ]
  },
  {
   "cell_type": "code",
   "execution_count": 20,
   "metadata": {
    "colab": {
     "base_uri": "https://localhost:8080/"
    },
    "id": "CK9AHsXHDGdr",
    "executionInfo": {
     "status": "ok",
     "timestamp": 1669705272364,
     "user_tz": -600,
     "elapsed": 1242,
     "user": {
      "displayName": "Николай Матвеюк",
      "userId": "00647420100393264071"
     }
    },
    "outputId": "da31118e-7c2e-4585-b220-5cb49aa37b16"
   },
   "outputs": [
    {
     "output_type": "stream",
     "name": "stdout",
     "text": [
      "Потребление памяти меньше на 40.49 Мб (минус 75.1 %)\n",
      "<class 'pandas.core.frame.DataFrame'>\n",
      "RangeIndex: 59381 entries, 0 to 59380\n",
      "Columns: 119 entries, 0 to Response\n",
      "dtypes: float16(118), int8(1)\n",
      "memory usage: 13.4 MB\n",
      "None\n"
     ]
    }
   ],
   "source": [
    "data_transformed = reduce_mem_usage(data_transformed)\n",
    "print (data_transformed.info())"
   ]
  },
  {
   "cell_type": "markdown",
   "metadata": {
    "id": "64SXgqCNDGds"
   },
   "source": [
    "### Разделение данных\n",
    "Преобразуем выборки в отдельные наборы данных"
   ]
  },
  {
   "cell_type": "code",
   "execution_count": 21,
   "metadata": {
    "colab": {
     "base_uri": "https://localhost:8080/"
    },
    "id": "wqnACmACDGdt",
    "executionInfo": {
     "status": "ok",
     "timestamp": 1669705272366,
     "user_tz": -600,
     "elapsed": 28,
     "user": {
      "displayName": "Николай Матвеюк",
      "userId": "00647420100393264071"
     }
    },
    "outputId": "146bc952-aee8-4aad-8ec5-70501f1a24fe"
   },
   "outputs": [
    {
     "output_type": "stream",
     "name": "stdout",
     "text": [
      "              0         1         2         3         4         5         6  \\\n",
      "6214  -0.748535  0.269287 -1.299805 -1.043945  0.611816 -0.169434 -1.159180   \n",
      "22182  1.601562  1.249023  0.516602  1.050781 -1.634766 -0.169434  0.862305   \n",
      "55504 -0.748535  0.024353 -0.997070 -0.916992  0.611816 -0.169434 -1.159180   \n",
      "14822  0.073853 -0.220581  0.365479  0.275879  0.611816 -0.169434  0.862305   \n",
      "54628 -1.030273 -0.710449 -1.981445 -0.886230 -1.634766 -0.169434  0.862305   \n",
      "\n",
      "              7         8         9  ...       109      110       111  \\\n",
      "6214   1.100586 -1.156250  1.130859  ... -0.083679  0.44165 -0.149292   \n",
      "22182 -1.013672  0.864746 -0.928711  ... -0.083679  0.44165 -0.149292   \n",
      "55504  1.100586 -1.156250  1.130859  ... -0.083679  0.44165 -0.149292   \n",
      "14822  0.043671  0.861816 -0.928711  ... -0.083679  0.44165 -0.149292   \n",
      "54628 -1.013672  0.861816 -0.928711  ... -0.083679  0.44165 -0.149292   \n",
      "\n",
      "            112       113       114       115       116      117  Response  \n",
      "6214  -0.200073  0.750977 -0.623535 -0.215942 -0.128906 -0.14209         7  \n",
      "22182 -1.133789  0.750977 -0.623535 -0.215942 -0.128906 -0.14209         5  \n",
      "55504  0.266846  0.750977 -0.623535 -0.215942 -0.128906 -0.14209         7  \n",
      "14822 -1.133789 -1.332031 -0.623535  4.628906 -0.128906 -0.14209         7  \n",
      "54628  2.134766 -1.332031  1.604492 -0.215942 -0.128906 -0.14209         7  \n",
      "\n",
      "[5 rows x 119 columns]\n"
     ]
    }
   ],
   "source": [
    "data_train, data_test = train_test_split(data_transformed,\n",
    "                                         test_size=0.2)\n",
    "data_train = pd.DataFrame(data_train)\n",
    "data_test = pd.DataFrame(data_test)\n",
    "print (data_train.head())"
   ]
  },
  {
   "cell_type": "markdown",
   "metadata": {
    "id": "A1NkVQh8DGdu"
   },
   "source": [
    "### Построение базовых моделей"
   ]
  },
  {
   "cell_type": "code",
   "execution_count": 22,
   "metadata": {
    "id": "RjEqYd_lDGdu",
    "executionInfo": {
     "status": "ok",
     "timestamp": 1669705272367,
     "user_tz": -600,
     "elapsed": 26,
     "user": {
      "displayName": "Николай Матвеюк",
      "userId": "00647420100393264071"
     }
    }
   },
   "outputs": [],
   "source": [
    "x_train = pd.DataFrame(data_train, columns=columns_transformed)\n",
    "y_train = data_train[\"Response\"]"
   ]
  },
  {
   "cell_type": "code",
   "source": [
    "estimators = [('rf', RandomForestClassifier(n_estimators=10, random_state=42)),\n",
    "    ('xgb',XGBClassifier(max_depth=17, max_features=27, n_estimators=76, min_samples_leaf=20)),\n",
    "    ('lgb', lgb.LGBMClassifier(random_state=17, max_depth=18, min_child_samples=17, num_leaves=35, n_estimators=1000, objective=\"multiclass\", num_class=8))]\n",
    "clf = StackingClassifier(estimators=estimators, final_estimator=LogisticRegression(), n_jobs=-1)"
   ],
   "metadata": {
    "id": "yTnWwqTjJXAj",
    "executionInfo": {
     "status": "ok",
     "timestamp": 1669705488500,
     "user_tz": -600,
     "elapsed": 409,
     "user": {
      "displayName": "Николай Матвеюк",
      "userId": "00647420100393264071"
     }
    }
   },
   "execution_count": 25,
   "outputs": []
  },
  {
   "cell_type": "code",
   "source": [
    "clf.fit(X=x_train, y=y_train)"
   ],
   "metadata": {
    "colab": {
     "base_uri": "https://localhost:8080/"
    },
    "id": "i0VFYSS1LNtJ",
    "executionInfo": {
     "status": "ok",
     "timestamp": 1669708673664,
     "user_tz": -600,
     "elapsed": 3180251,
     "user": {
      "displayName": "Николай Матвеюк",
      "userId": "00647420100393264071"
     }
    },
    "outputId": "5bb29c6d-c55b-48fd-8b6c-d354bf4fe25b"
   },
   "execution_count": 26,
   "outputs": [
    {
     "output_type": "stream",
     "name": "stderr",
     "text": [
      "/usr/local/lib/python3.7/dist-packages/sklearn/linear_model/_logistic.py:818: ConvergenceWarning: lbfgs failed to converge (status=1):\n",
      "STOP: TOTAL NO. of ITERATIONS REACHED LIMIT.\n",
      "\n",
      "Increase the number of iterations (max_iter) or scale the data as shown in:\n",
      "    https://scikit-learn.org/stable/modules/preprocessing.html\n",
      "Please also refer to the documentation for alternative solver options:\n",
      "    https://scikit-learn.org/stable/modules/linear_model.html#logistic-regression\n",
      "  extra_warning_msg=_LOGISTIC_SOLVER_CONVERGENCE_MSG,\n"
     ]
    },
    {
     "output_type": "execute_result",
     "data": {
      "text/plain": [
       "StackingClassifier(estimators=[('rf',\n",
       "                                RandomForestClassifier(n_estimators=10,\n",
       "                                                       random_state=42)),\n",
       "                               ('xgb',\n",
       "                                XGBClassifier(max_depth=17, max_features=27,\n",
       "                                              min_samples_leaf=20,\n",
       "                                              n_estimators=76)),\n",
       "                               ('lgb',\n",
       "                                LGBMClassifier(max_depth=18,\n",
       "                                               min_child_samples=17,\n",
       "                                               n_estimators=1000, num_class=8,\n",
       "                                               num_leaves=35,\n",
       "                                               objective='multiclass',\n",
       "                                               random_state=17))],\n",
       "                   final_estimator=LogisticRegression(), n_jobs=-1)"
      ]
     },
     "metadata": {},
     "execution_count": 26
    }
   ]
  },
  {
   "cell_type": "markdown",
   "metadata": {
    "id": "JNKUHZtqDGd1"
   },
   "source": [
    "### Оценка ансамбля\n",
    "Рассчитаем оценку взвешенного предсказания 4 моделей"
   ]
  },
  {
   "cell_type": "markdown",
   "metadata": {
    "id": "bgmeAf-rDGd1"
   },
   "source": [
    "Кластеризация дает 0.192, kNN(100) - 0.382, лог. регрессия - 0.512/0.496, SVM - 0.95, реш. дерево - 0.3, случайный лес - 0.487, XGBoost - 0.536, градиентный бустинг - 0.56, LightGBM - 0.569, CatBoost - 0.542"
   ]
  },
  {
   "cell_type": "code",
   "source": [
    "x_test = pd.DataFrame(data_test, columns=columns_transformed)\n",
    "y_test = data_test[\"Response\"]"
   ],
   "metadata": {
    "id": "8QQQQZiMNIk_",
    "executionInfo": {
     "status": "ok",
     "timestamp": 1669708711279,
     "user_tz": -600,
     "elapsed": 343,
     "user": {
      "displayName": "Николай Матвеюк",
      "userId": "00647420100393264071"
     }
    }
   },
   "execution_count": 27,
   "outputs": []
  },
  {
   "cell_type": "code",
   "source": [
    "y_predict = clf.predict(X=x_test)"
   ],
   "metadata": {
    "id": "1DJdM-S5ZRYx",
    "executionInfo": {
     "status": "ok",
     "timestamp": 1669708785454,
     "user_tz": -600,
     "elapsed": 18631,
     "user": {
      "displayName": "Николай Матвеюк",
      "userId": "00647420100393264071"
     }
    }
   },
   "execution_count": 28,
   "outputs": []
  },
  {
   "cell_type": "code",
   "source": [
    "print(cohen_kappa_score(y_test, y_predict))"
   ],
   "metadata": {
    "colab": {
     "base_uri": "https://localhost:8080/"
    },
    "id": "0EGbT-bWZjjF",
    "executionInfo": {
     "status": "ok",
     "timestamp": 1669708837794,
     "user_tz": -600,
     "elapsed": 337,
     "user": {
      "displayName": "Николай Матвеюк",
      "userId": "00647420100393264071"
     }
    },
    "outputId": "21da5fa9-38b1-490e-9698-53d246566e53"
   },
   "execution_count": 29,
   "outputs": [
    {
     "output_type": "stream",
     "name": "stdout",
     "text": [
      "0.46714551749702116\n"
     ]
    }
   ]
  },
  {
   "cell_type": "markdown",
   "metadata": {
    "id": "msV24fUnDGd3"
   },
   "source": [
    "### Матрица неточностей"
   ]
  },
  {
   "cell_type": "code",
   "execution_count": 30,
   "metadata": {
    "id": "BgHBxaIaDGd3",
    "outputId": "1d49f0a6-ace0-489a-e8f9-31e0f64986ef",
    "colab": {
     "base_uri": "https://localhost:8080/"
    },
    "executionInfo": {
     "status": "ok",
     "timestamp": 1669708884051,
     "user_tz": -600,
     "elapsed": 426,
     "user": {
      "displayName": "Николай Матвеюк",
      "userId": "00647420100393264071"
     }
    }
   },
   "outputs": [
    {
     "output_type": "stream",
     "name": "stdout",
     "text": [
      "Ансамбль классификации\n",
      " [[ 352  187   18   15   44  125   60   22]\n",
      " [ 146  352    7    1  108  101   35   21]\n",
      " [  27   17   73    7    1    0    0    0]\n",
      " [  30   32   51  194    0    3    0    2]\n",
      " [  96  144   15    0  573   79   12    8]\n",
      " [ 263  263   12   15  192 1240  328  137]\n",
      " [ 112   94    5    8   63  274  663  180]\n",
      " [ 248  236    7   26   87  438  559 3469]]\n"
     ]
    }
   ],
   "source": [
    "print (\"Ансамбль классификации\\n\",\n",
    "    confusion_matrix(y_predict, y_test))"
   ]
  },
  {
   "cell_type": "code",
   "source": [],
   "metadata": {
    "id": "zX4_-vGZZ6Gt"
   },
   "execution_count": null,
   "outputs": []
  }
 ],
 "metadata": {
  "kernelspec": {
   "display_name": "Python 3",
   "language": "python",
   "name": "python3"
  },
  "language_info": {
   "codemirror_mode": {
    "name": "ipython",
    "version": 3
   },
   "file_extension": ".py",
   "mimetype": "text/x-python",
   "name": "python",
   "nbconvert_exporter": "python",
   "pygments_lexer": "ipython3",
   "version": "3.7.6"
  },
  "colab": {
   "provenance": []
  }
 },
 "nbformat": 4,
 "nbformat_minor": 0
}
