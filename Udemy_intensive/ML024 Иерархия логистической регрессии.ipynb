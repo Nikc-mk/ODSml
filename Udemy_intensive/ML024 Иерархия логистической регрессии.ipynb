{
 "cells": [
  {
   "cell_type": "markdown",
   "metadata": {
    "id": "dYEEPxPMbaHo"
   },
   "source": [
    "## Постановка задачи\n",
    "Загрузите данные, приведите их к числовым, заполните пропуски, нормализуйте данные и оптимизируйте память.\n",
    "\n",
    "Разделите выборку на обучающую/проверочную в соотношении 80/20.\n",
    "\n",
    "Постройте 2 модели - kNN по 100 соседей и множественную логистическую регрессию - каждую по наиболее оптимальным наборам параметров (для каждой модели), используйте для этого перекрестную проверку GridSearchCV.\n",
    "\n",
    "Проведите предсказание и проверьте качество через каппа-метрику.\n",
    "\n",
    "Данные:\n",
    "* https://video.ittensive.com/machine-learning/prudential/train.csv.gz\n",
    "\n",
    "Соревнование: https://www.kaggle.com/c/prudential-life-insurance-assessment/\n",
    "\n",
    "© ITtensive, 2020"
   ]
  },
  {
   "cell_type": "markdown",
   "metadata": {
    "id": "Tt-He8Q7baH0"
   },
   "source": [
    "### Подключение библиотек"
   ]
  },
  {
   "cell_type": "code",
   "execution_count": 1,
   "metadata": {
    "id": "0C5NfFWGbaH1",
    "executionInfo": {
     "status": "ok",
     "timestamp": 1669625431299,
     "user_tz": -600,
     "elapsed": 3630,
     "user": {
      "displayName": "Николай Матвеюк",
      "userId": "00647420100393264071"
     }
    }
   },
   "outputs": [],
   "source": [
    "import pandas as pd\n",
    "import numpy as np\n",
    "from sklearn.model_selection import train_test_split\n",
    "from sklearn.metrics import cohen_kappa_score, confusion_matrix, make_scorer\n",
    "from sklearn.linear_model import LogisticRegression\n",
    "from sklearn.model_selection import GridSearchCV, cross_val_score\n",
    "from sklearn import preprocessing\n",
    "from sklearn.neighbors import KNeighborsClassifier"
   ]
  },
  {
   "cell_type": "markdown",
   "metadata": {
    "id": "zsWFG_QjbaH6"
   },
   "source": [
    "### Загрузка данных"
   ]
  },
  {
   "cell_type": "code",
   "execution_count": 2,
   "metadata": {
    "pycharm": {
     "is_executing": true
    },
    "colab": {
     "base_uri": "https://localhost:8080/"
    },
    "id": "ADywVbGpbaH7",
    "executionInfo": {
     "status": "ok",
     "timestamp": 1669625449038,
     "user_tz": -600,
     "elapsed": 2830,
     "user": {
      "displayName": "Николай Матвеюк",
      "userId": "00647420100393264071"
     }
    },
    "outputId": "80612953-b404-4a72-b346-7370032e29a2"
   },
   "outputs": [
    {
     "output_type": "stream",
     "name": "stdout",
     "text": [
      "<class 'pandas.core.frame.DataFrame'>\n",
      "RangeIndex: 59381 entries, 0 to 59380\n",
      "Columns: 128 entries, Id to Response\n",
      "dtypes: float64(18), int64(109), object(1)\n",
      "memory usage: 58.0+ MB\n",
      "None\n"
     ]
    }
   ],
   "source": [
    "data = pd.read_csv(\"https://video.ittensive.com/machine-learning/prudential/train.csv.gz\")\n",
    "print (data.info())"
   ]
  },
  {
   "cell_type": "markdown",
   "metadata": {
    "id": "ClK9qa2abaH8"
   },
   "source": [
    "### Предобработка данных"
   ]
  },
  {
   "cell_type": "code",
   "execution_count": 3,
   "metadata": {
    "pycharm": {
     "is_executing": true
    },
    "id": "p5ApvnBgbaH9",
    "executionInfo": {
     "status": "ok",
     "timestamp": 1669625452809,
     "user_tz": -600,
     "elapsed": 327,
     "user": {
      "displayName": "Николай Матвеюк",
      "userId": "00647420100393264071"
     }
    }
   },
   "outputs": [],
   "source": [
    "data[\"Product_Info_2_1\"] = data[\"Product_Info_2\"].str.slice(0, 1)\n",
    "data[\"Product_Info_2_2\"] = pd.to_numeric(data[\"Product_Info_2\"].str.slice(1, 2))\n",
    "data.drop(labels=[\"Product_Info_2\"], axis=1, inplace=True)\n",
    "for l in data[\"Product_Info_2_1\"].unique():\n",
    "    data[\"Product_Info_2_1\" + l] = data[\"Product_Info_2_1\"].isin([l]).astype(\"int8\")\n",
    "data.drop(labels=[\"Product_Info_2_1\"], axis=1, inplace=True)\n",
    "data.fillna(value=-1, inplace=True)"
   ]
  },
  {
   "cell_type": "markdown",
   "metadata": {
    "id": "ftT9GKqGbaIA"
   },
   "source": [
    "### Оптимизация памяти"
   ]
  },
  {
   "cell_type": "code",
   "execution_count": 4,
   "metadata": {
    "pycharm": {
     "is_executing": true
    },
    "id": "ZyUqVkEDbaIC",
    "executionInfo": {
     "status": "ok",
     "timestamp": 1669625456855,
     "user_tz": -600,
     "elapsed": 368,
     "user": {
      "displayName": "Николай Матвеюк",
      "userId": "00647420100393264071"
     }
    }
   },
   "outputs": [],
   "source": [
    "def reduce_mem_usage (df):\n",
    "    start_mem = df.memory_usage().sum() / 1024**2    \n",
    "    for col in df.columns:\n",
    "        col_type = df[col].dtypes\n",
    "        if str(col_type)[:5] == \"float\":\n",
    "            c_min = df[col].min()\n",
    "            c_max = df[col].max()\n",
    "            if c_min > np.finfo(\"f2\").min and c_max < np.finfo(\"f2\").max:\n",
    "                df[col] = df[col].astype(np.float16)\n",
    "            elif c_min > np.finfo(\"f4\").min and c_max < np.finfo(\"f4\").max:\n",
    "                df[col] = df[col].astype(np.float32)\n",
    "            else:\n",
    "                df[col] = df[col].astype(np.float64)\n",
    "        elif str(col_type)[:3] == \"int\":\n",
    "            c_min = df[col].min()\n",
    "            c_max = df[col].max()\n",
    "            if c_min > np.iinfo(\"i1\").min and c_max < np.iinfo(\"i1\").max:\n",
    "                df[col] = df[col].astype(np.int8)\n",
    "            elif c_min > np.iinfo(\"i2\").min and c_max < np.iinfo(\"i2\").max:\n",
    "                df[col] = df[col].astype(np.int16)\n",
    "            elif c_min > np.iinfo(\"i4\").min and c_max < np.iinfo(\"i4\").max:\n",
    "                df[col] = df[col].astype(np.int32)\n",
    "            elif c_min > np.iinfo(\"i8\").min and c_max < np.iinfo(\"i8\").max:\n",
    "                df[col] = df[col].astype(np.int64)\n",
    "        else:\n",
    "            df[col] = df[col].astype(\"category\")\n",
    "    end_mem = df.memory_usage().sum() / 1024**2\n",
    "    print('Потребление памяти меньше на', round(start_mem - end_mem, 2), 'Мб (минус', round(100 * (start_mem - end_mem) / start_mem, 1), '%)')\n",
    "    return df"
   ]
  },
  {
   "cell_type": "code",
   "execution_count": 5,
   "metadata": {
    "pycharm": {
     "is_executing": true
    },
    "colab": {
     "base_uri": "https://localhost:8080/"
    },
    "id": "rO169i5JbaIF",
    "executionInfo": {
     "status": "ok",
     "timestamp": 1669625459489,
     "user_tz": -600,
     "elapsed": 1108,
     "user": {
      "displayName": "Николай Матвеюк",
      "userId": "00647420100393264071"
     }
    },
    "outputId": "058a1b56-e72c-45fa-93e8-2ff426c03b0b"
   },
   "outputs": [
    {
     "output_type": "stream",
     "name": "stdout",
     "text": [
      "Потребление памяти меньше на 49.49 Мб (минус 84.9 %)\n",
      "<class 'pandas.core.frame.DataFrame'>\n",
      "RangeIndex: 59381 entries, 0 to 59380\n",
      "Columns: 133 entries, Id to Product_Info_2_1B\n",
      "dtypes: float16(18), int16(1), int32(1), int8(113)\n",
      "memory usage: 8.8 MB\n",
      "None\n"
     ]
    }
   ],
   "source": [
    "data = reduce_mem_usage(data)\n",
    "print (data.info())"
   ]
  },
  {
   "cell_type": "markdown",
   "metadata": {
    "id": "FmCEudGqbaIG"
   },
   "source": [
    "### Общий набор столбцов для расчета"
   ]
  },
  {
   "cell_type": "code",
   "execution_count": 6,
   "metadata": {
    "pycharm": {
     "is_executing": true
    },
    "colab": {
     "base_uri": "https://localhost:8080/"
    },
    "id": "id4CyNCSbaIH",
    "executionInfo": {
     "status": "ok",
     "timestamp": 1669625466874,
     "user_tz": -600,
     "elapsed": 357,
     "user": {
      "displayName": "Николай Матвеюк",
      "userId": "00647420100393264071"
     }
    },
    "outputId": "2edfeb1f-5a04-48f0-dafe-c289c0325c90"
   },
   "outputs": [
    {
     "output_type": "stream",
     "name": "stdout",
     "text": [
      "['Wt', 'Ht', 'Ins_Age', 'BMI', 'Insurance_History_1', 'Insurance_History_2', 'Insurance_History_3', 'Insurance_History_4', 'Insurance_History_5', 'Insurance_History_7', 'Insurance_History_8', 'Insurance_History_9', 'Medical_Keyword_1', 'Medical_Keyword_2', 'Medical_Keyword_3', 'Medical_Keyword_4', 'Medical_Keyword_5', 'Medical_Keyword_6', 'Medical_Keyword_7', 'Medical_Keyword_8', 'Medical_Keyword_9', 'Medical_Keyword_10', 'Medical_Keyword_11', 'Medical_Keyword_12', 'Medical_Keyword_13', 'Medical_Keyword_14', 'Medical_Keyword_15', 'Medical_Keyword_16', 'Medical_Keyword_17', 'Medical_Keyword_18', 'Medical_Keyword_19', 'Medical_Keyword_20', 'Medical_Keyword_21', 'Medical_Keyword_22', 'Medical_Keyword_23', 'Medical_Keyword_24', 'Medical_Keyword_25', 'Medical_Keyword_26', 'Medical_Keyword_27', 'Medical_Keyword_28', 'Medical_Keyword_29', 'Medical_Keyword_30', 'Medical_Keyword_31', 'Medical_Keyword_32', 'Medical_Keyword_33', 'Medical_Keyword_34', 'Medical_Keyword_35', 'Medical_Keyword_36', 'Medical_Keyword_37', 'Medical_Keyword_38', 'Medical_Keyword_39', 'Medical_Keyword_40', 'Medical_Keyword_41', 'Medical_Keyword_42', 'Medical_Keyword_43', 'Medical_Keyword_44', 'Medical_Keyword_45', 'Medical_Keyword_46', 'Medical_Keyword_47', 'Medical_Keyword_48', 'Family_Hist_1', 'Family_Hist_2', 'Family_Hist_3', 'Family_Hist_4', 'Family_Hist_5', 'Medical_History_1', 'Medical_History_2', 'Medical_History_3', 'Medical_History_4', 'Medical_History_5', 'Medical_History_6', 'Medical_History_7', 'Medical_History_8', 'Medical_History_9', 'Medical_History_10', 'Medical_History_11', 'Medical_History_12', 'Medical_History_13', 'Medical_History_14', 'Medical_History_15', 'Medical_History_16', 'Medical_History_17', 'Medical_History_18', 'Medical_History_19', 'Medical_History_20', 'Medical_History_21', 'Medical_History_22', 'Medical_History_23', 'Medical_History_24', 'Medical_History_25', 'Medical_History_26', 'Medical_History_27', 'Medical_History_28', 'Medical_History_29', 'Medical_History_30', 'Medical_History_31', 'Medical_History_32', 'Medical_History_33', 'Medical_History_34', 'Medical_History_35', 'Medical_History_36', 'Medical_History_37', 'Medical_History_38', 'Medical_History_39', 'Medical_History_40', 'Medical_History_41', 'Product_Info_1', 'Product_Info_3', 'Product_Info_4', 'Product_Info_5', 'Product_Info_6', 'Product_Info_7', 'Product_Info_2_2', 'Product_Info_2_1D', 'Product_Info_2_1A', 'Product_Info_2_1E', 'Product_Info_2_1C', 'Product_Info_2_1B']\n"
     ]
    }
   ],
   "source": [
    "columns_groups = [\"Insurance_History\", \"InsurеdInfo\", \"Medical_Keyword\",\n",
    "                  \"Family_Hist\", \"Medical_History\", \"Product_Info\"]\n",
    "columns = [\"Wt\", \"Ht\", \"Ins_Age\", \"BMI\"]\n",
    "for cg in columns_groups:\n",
    "    columns.extend(data.columns[data.columns.str.startswith(cg)])\n",
    "print (columns)"
   ]
  },
  {
   "cell_type": "markdown",
   "metadata": {
    "id": "KUfFq_SDbaII"
   },
   "source": [
    "### Предобработка данных"
   ]
  },
  {
   "cell_type": "code",
   "execution_count": 7,
   "metadata": {
    "pycharm": {
     "is_executing": true
    },
    "id": "Y5I3JV9PbaIJ",
    "executionInfo": {
     "status": "ok",
     "timestamp": 1669625469747,
     "user_tz": -600,
     "elapsed": 335,
     "user": {
      "displayName": "Николай Матвеюк",
      "userId": "00647420100393264071"
     }
    }
   },
   "outputs": [],
   "source": [
    "scaler = preprocessing.StandardScaler()\n",
    "data_transformed = pd.DataFrame(scaler.fit_transform(pd.DataFrame(data,\n",
    "                                                     columns=columns)))\n",
    "columns_transformed = data_transformed.columns\n",
    "data_transformed[\"Response\"] = data[\"Response\"]"
   ]
  },
  {
   "cell_type": "markdown",
   "metadata": {
    "id": "MsNwfs6ibaIK"
   },
   "source": [
    "### Разделение данных\n",
    "Преобразуем выборки в отдельные наборы данных"
   ]
  },
  {
   "cell_type": "code",
   "execution_count": 8,
   "metadata": {
    "pycharm": {
     "is_executing": true
    },
    "colab": {
     "base_uri": "https://localhost:8080/"
    },
    "id": "iZzY3I09baIL",
    "executionInfo": {
     "status": "ok",
     "timestamp": 1669625472685,
     "user_tz": -600,
     "elapsed": 497,
     "user": {
      "displayName": "Николай Матвеюк",
      "userId": "00647420100393264071"
     }
    },
    "outputId": "4d088fb9-3bca-406b-ce47-4ff068cfe0d5"
   },
   "outputs": [
    {
     "output_type": "stream",
     "name": "stdout",
     "text": [
      "              0         1         2         3         4         5         6  \\\n",
      "46738 -1.218699 -1.444237 -1.073002 -0.728909 -1.634368 -0.169414  0.862391   \n",
      "26427 -1.453140 -0.707398 -0.164865 -1.466045  0.611857 -0.169414 -1.159587   \n",
      "33182 -0.866351 -0.957397 -0.391435 -0.515160  0.611857 -0.169414  0.862391   \n",
      "56864 -0.278190 -0.220558  0.743891 -0.177556  0.611857 -0.169414 -1.159587   \n",
      "34433 -0.371418  0.516280  1.045984 -0.720919 -1.634368 -0.169414  0.862391   \n",
      "\n",
      "              7         8         9  ...       109       110       111  \\\n",
      "46738 -1.013721  0.864260 -0.928723  ... -0.083689  0.441621 -0.149284   \n",
      "26427  1.101046 -1.156735  1.130555  ... -0.083689 -2.264385 -0.149284   \n",
      "33182  0.043662  0.867354 -0.928723  ... -0.083689 -2.264385 -0.149284   \n",
      "56864  1.101046 -1.156735  1.130555  ... -0.083689  0.441621 -0.149284   \n",
      "34433 -1.013721  0.864260 -0.928723  ... -0.083689  0.441621 -0.149284   \n",
      "\n",
      "            112       113       114       115       116       117  Response  \n",
      "46738  1.200458 -1.331832  1.604350 -0.216001 -0.128866 -0.142142         8  \n",
      "26427  0.266799  0.750845 -0.623305 -0.216001 -0.128866 -0.142142         1  \n",
      "33182  0.266799  0.750845 -0.623305 -0.216001 -0.128866 -0.142142         8  \n",
      "56864 -0.200031  0.750845 -0.623305 -0.216001 -0.128866 -0.142142         1  \n",
      "34433  2.134117 -1.331832  1.604350 -0.216001 -0.128866 -0.142142         5  \n",
      "\n",
      "[5 rows x 119 columns]\n"
     ]
    }
   ],
   "source": [
    "data_train, data_test = train_test_split(data_transformed,\n",
    "                                         test_size=0.2)\n",
    "data_train = pd.DataFrame(data_train)\n",
    "data_test = pd.DataFrame(data_test)\n",
    "print (data_train.head())"
   ]
  },
  {
   "cell_type": "markdown",
   "source": [
    "### KNN"
   ],
   "metadata": {
    "collapsed": false,
    "id": "K9lD9PiVbaIM"
   }
  },
  {
   "cell_type": "code",
   "execution_count": 9,
   "outputs": [],
   "source": [
    "knn_model = KNeighborsClassifier(n_neighbors=100, n_jobs=-1)\n",
    "knn_grid = GridSearchCV(knn_model, {}, cv=5, scoring=make_scorer(cohen_kappa_score), n_jobs=-1)"
   ],
   "metadata": {
    "pycharm": {
     "is_executing": true
    },
    "id": "llShRza2baIN",
    "executionInfo": {
     "status": "ok",
     "timestamp": 1669625478694,
     "user_tz": -600,
     "elapsed": 358,
     "user": {
      "displayName": "Николай Матвеюк",
      "userId": "00647420100393264071"
     }
    }
   }
  },
  {
   "cell_type": "code",
   "execution_count": 10,
   "outputs": [
    {
     "output_type": "execute_result",
     "data": {
      "text/plain": [
       "GridSearchCV(cv=5, estimator=KNeighborsClassifier(n_jobs=-1, n_neighbors=100),\n",
       "             n_jobs=-1, param_grid={}, scoring=make_scorer(cohen_kappa_score))"
      ]
     },
     "metadata": {},
     "execution_count": 10
    }
   ],
   "source": [
    "knn_grid.fit(X=data_train.drop(columns=[\"Response\"]), y=data_train[\"Response\"])"
   ],
   "metadata": {
    "pycharm": {
     "is_executing": true
    },
    "colab": {
     "base_uri": "https://localhost:8080/"
    },
    "id": "XDVlWqd5baIO",
    "executionInfo": {
     "status": "ok",
     "timestamp": 1669625531260,
     "user_tz": -600,
     "elapsed": 50739,
     "user": {
      "displayName": "Николай Матвеюк",
      "userId": "00647420100393264071"
     }
    },
    "outputId": "afd1087b-cd71-461e-8de2-75bfd2d4cea0"
   }
  },
  {
   "cell_type": "code",
   "execution_count": 26,
   "outputs": [],
   "source": [
    "y_test = knn_grid.predict(data_test.drop(columns=[\"Response\"]))"
   ],
   "metadata": {
    "pycharm": {
     "is_executing": true
    },
    "id": "bk_MrMjybaIP",
    "executionInfo": {
     "status": "ok",
     "timestamp": 1669627667454,
     "user_tz": -600,
     "elapsed": 35962,
     "user": {
      "displayName": "Николай Матвеюк",
      "userId": "00647420100393264071"
     }
    }
   }
  },
  {
   "cell_type": "code",
   "source": [
    "round(cohen_kappa_score(data_test[\"Response\"],\n",
    "                y_test, weights=\"quadratic\"), 3)"
   ],
   "metadata": {
    "colab": {
     "base_uri": "https://localhost:8080/"
    },
    "id": "XqwCXeH8eSbK",
    "executionInfo": {
     "status": "ok",
     "timestamp": 1669627739957,
     "user_tz": -600,
     "elapsed": 624,
     "user": {
      "displayName": "Николай Матвеюк",
      "userId": "00647420100393264071"
     }
    },
    "outputId": "c6ff9852-5aef-4132-dad2-08424842314d"
   },
   "execution_count": 27,
   "outputs": [
    {
     "output_type": "execute_result",
     "data": {
      "text/plain": [
       "0.305"
      ]
     },
     "metadata": {},
     "execution_count": 27
    }
   ]
  },
  {
   "cell_type": "markdown",
   "metadata": {
    "id": "1JjJasx3baIP"
   },
   "source": [
    "### Логистическая регрессия"
   ]
  },
  {
   "cell_type": "code",
   "execution_count": 21,
   "outputs": [],
   "source": [
    "lr_model = LogisticRegression(solver='liblinear', max_iter=1000)\n",
    "paramert_grid = {'C': [0.001, 0.1, 10]}\n",
    "lr_grid = GridSearchCV(lr_model, param_grid=paramert_grid, cv=5, n_jobs=-1, scoring=make_scorer(cohen_kappa_score))"
   ],
   "metadata": {
    "pycharm": {
     "is_executing": true
    },
    "id": "JDh9OalObaIQ",
    "executionInfo": {
     "status": "ok",
     "timestamp": 1669626581760,
     "user_tz": -600,
     "elapsed": 340,
     "user": {
      "displayName": "Николай Матвеюк",
      "userId": "00647420100393264071"
     }
    }
   }
  },
  {
   "cell_type": "code",
   "execution_count": 22,
   "outputs": [
    {
     "output_type": "stream",
     "name": "stdout",
     "text": [
      "CPU times: user 1min 4s, sys: 510 ms, total: 1min 5s\n",
      "Wall time: 6min 16s\n"
     ]
    },
    {
     "output_type": "execute_result",
     "data": {
      "text/plain": [
       "GridSearchCV(cv=5,\n",
       "             estimator=LogisticRegression(max_iter=1000, solver='liblinear'),\n",
       "             n_jobs=-1, param_grid={'C': [0.001, 0.1, 10]},\n",
       "             scoring=make_scorer(cohen_kappa_score))"
      ]
     },
     "metadata": {},
     "execution_count": 22
    }
   ],
   "source": [
    "%%time\n",
    "lr_grid.fit(X=data_train.drop(columns=[\"Response\"]), y=data_train[\"Response\"])"
   ],
   "metadata": {
    "pycharm": {
     "is_executing": true
    },
    "colab": {
     "base_uri": "https://localhost:8080/"
    },
    "id": "Slz3H4DEbaIR",
    "executionInfo": {
     "status": "ok",
     "timestamp": 1669626966053,
     "user_tz": -600,
     "elapsed": 377257,
     "user": {
      "displayName": "Николай Матвеюк",
      "userId": "00647420100393264071"
     }
    },
    "outputId": "73812a84-3492-409a-8aed-fa17396da787"
   }
  },
  {
   "cell_type": "code",
   "source": [
    "lr_grid.best_params_"
   ],
   "metadata": {
    "colab": {
     "base_uri": "https://localhost:8080/"
    },
    "id": "04x_MnlLjgXQ",
    "executionInfo": {
     "status": "ok",
     "timestamp": 1669627542077,
     "user_tz": -600,
     "elapsed": 345,
     "user": {
      "displayName": "Николай Матвеюк",
      "userId": "00647420100393264071"
     }
    },
    "outputId": "b051e05d-1ff2-4b69-dc5f-3313fc905b26"
   },
   "execution_count": 23,
   "outputs": [
    {
     "output_type": "execute_result",
     "data": {
      "text/plain": [
       "{'C': 10}"
      ]
     },
     "metadata": {},
     "execution_count": 23
    }
   ]
  },
  {
   "cell_type": "code",
   "execution_count": 24,
   "outputs": [
    {
     "output_type": "execute_result",
     "data": {
      "text/plain": [
       "0.483"
      ]
     },
     "metadata": {},
     "execution_count": 24
    }
   ],
   "source": [
    "round(cohen_kappa_score(data_test[\"Response\"],\n",
    "                lr_grid.predict(data_test.drop(columns=[\"Response\"])), weights=\"quadratic\"), 3)"
   ],
   "metadata": {
    "pycharm": {
     "is_executing": true
    },
    "colab": {
     "base_uri": "https://localhost:8080/"
    },
    "id": "g5wRQCo9baIS",
    "executionInfo": {
     "status": "ok",
     "timestamp": 1669627549970,
     "user_tz": -600,
     "elapsed": 324,
     "user": {
      "displayName": "Николай Матвеюк",
      "userId": "00647420100393264071"
     }
    },
    "outputId": "4652de46-12a7-4c95-cd7b-9e2024515cb8"
   }
  },
  {
   "cell_type": "markdown",
   "metadata": {
    "id": "JCdTi0zybaIS"
   },
   "source": [
    "Кластеризация дает 0.192, kNN(100) - 0.3, простая лог. регрессия - 0.512"
   ]
  }
 ],
 "metadata": {
  "kernelspec": {
   "display_name": "Python 3",
   "language": "python",
   "name": "python3"
  },
  "language_info": {
   "codemirror_mode": {
    "name": "ipython",
    "version": 3
   },
   "file_extension": ".py",
   "mimetype": "text/x-python",
   "name": "python",
   "nbconvert_exporter": "python",
   "pygments_lexer": "ipython3",
   "version": "3.7.6"
  },
  "colab": {
   "provenance": []
  }
 },
 "nbformat": 4,
 "nbformat_minor": 0
}
