{
 "cells": [
  {
   "cell_type": "markdown",
   "metadata": {},
   "source": [
    "\n",
    " <center> [mlcourse.ai](https://mlcourse.ai) – открытый курс OpenDataScience по машинному обучению\n",
    "\n",
    "    \n",
    "Автор материала: Ольга Дайховская (@aiho в Slack ODS). Материал распространяется на условиях лицензии [Creative Commons CC BY-NC-SA 4.0](https://creativecommons.org/licenses/by-nc-sa/4.0/). Можно использовать в любых целях (редактировать, поправлять и брать за основу), кроме коммерческих, но с обязательным упоминанием автора материала"
   ]
  },
  {
   "cell_type": "markdown",
   "metadata": {},
   "source": [
    "#  Домашнее задание № 4 (демо).\n",
    "## Прогнозирование популярности статей на TechMedia (Хабр) с помощью линейных моделей\n",
    "    \n",
    "**В задании Вам предлагается разобраться с тем, как работает TfidfVectorizer и DictVectorizer, затем обучить и настроить модель линейной регрессии Ridge на данных о публикациях на Хабрахабре. Пройдя все шаги, вы сможете получить бейзлайн для [соревнования](https://www.kaggle.com/c/howpop-habrahabr-favs-lognorm) (несмотря на old в названии, для этого задания соревнование актуально). \n",
    "Ответьте на все вопросы в этой тетрадке и заполните ответы в [гугл-форме](https://docs.google.com/forms/d/1gPt401drm84N2kdezwGWtPJN_JpaFqXoh6IwlWOslb4).**"
   ]
  },
  {
   "cell_type": "markdown",
   "metadata": {},
   "source": [
    "**Описание соревнования**\n",
    "\n",
    "Предскажите, как много звездочек наберет статья, зная только ее текст и время публикации\n",
    "\n",
    "Необходимо предсказать популярность поста на Хабре по содержанию и времени публикации. Как известно, пользователи Хабра могут добавлять статьи к себе в избранное. Общее количество пользователей, которое это сделали отображается у статьи количеством звездочек. Будем считать, что число звездочек, поставленных статье, наиболее хорошо отражает ее популярность.\n",
    "\n",
    "Более формально, в качестве метрики популярности статьи будем использовать долю статей за последний месяц, у которых количество звездочек меньше чем у текущей статьи. А точнее, доле числа звездочек можно поставить в соответствие квантили стандартного распределения, таким образом получаем числовую характеристику популярности статьи. Популярность статьи 0 означает, что статья получила ровно столько звездочек, сколько в среднем получают статьи. И соответственно чем больше звездочек получила статья по сравнению со средним, тем выше это число."
   ]
  },
  {
   "cell_type": "markdown",
   "metadata": {},
   "source": [
    "**Приступим:** импортируем необходимые библиотеки и скачаем данные"
   ]
  },
  {
   "cell_type": "code",
   "execution_count": 1,
   "metadata": {},
   "outputs": [],
   "source": [
    "import numpy as np\n",
    "import pandas as pd\n",
    "import seaborn as sns\n",
    "import scipy\n",
    "from sklearn.feature_extraction import DictVectorizer\n",
    "from sklearn.feature_extraction.text import TfidfVectorizer\n",
    "from sklearn.linear_model import Ridge\n",
    "from sklearn.metrics import mean_squared_error\n",
    "from sklearn.model_selection import train_test_split\n",
    "\n",
    "%matplotlib inline\n",
    "from matplotlib import pyplot as plt"
   ]
  },
  {
   "cell_type": "markdown",
   "metadata": {},
   "source": [
    "Скачайте [данные](https://drive.google.com/file/d/1nV2qV9otN3LnVSDqy95hvpJdb6aWtATk/view?usp=sharing) соревнования (данные были удалены с Kaggle ради организации последующего идентичного соревнования, так что тут ссылка на Google Drive)."
   ]
  },
  {
   "cell_type": "code",
   "execution_count": 2,
   "metadata": {},
   "outputs": [],
   "source": [
    "# при необходимости поменяйте путь к данным \n",
    "train_df = pd.read_csv('howpop_train.csv')\n",
    "test_df  = pd.read_csv('howpop_test.csv')"
   ]
  },
  {
   "cell_type": "code",
   "execution_count": 42,
   "metadata": {},
   "outputs": [
    {
     "data": {
      "text/plain": "                                url        domain  post_id  \\\n0  https://habrahabr.ru/post/18284/  habrahabr.ru    18284   \n1  https://habrahabr.ru/post/18285/  habrahabr.ru    18285   \n2  https://habrahabr.ru/post/18286/  habrahabr.ru    18286   \n3  https://habrahabr.ru/post/18291/  habrahabr.ru    18291   \n4  https://geektimes.ru/post/18294/  geektimes.ru    18294   \n5  https://habrahabr.ru/post/18295/  habrahabr.ru    18295   \n6  https://geektimes.ru/post/18306/  geektimes.ru    18306   \n7  https://habrahabr.ru/post/18311/  habrahabr.ru    18311   \n8  https://habrahabr.ru/post/31352/  habrahabr.ru    31352   \n9  https://habrahabr.ru/post/18314/  habrahabr.ru    18314   \n\n            published      author     flow  polling  content_len  \\\n0 2008-01-01 18:19:00      @Tapac  develop    False         4305   \n1 2008-01-01 18:30:00  @DezmASter   design    False         7344   \n2 2008-01-01 18:34:00  @DezmASter   design    False         8431   \n3 2008-01-02 01:32:00    @Taoorus   design    False         5662   \n4 2008-01-02 14:34:00    @dennydo      NaN    False         3706   \n5 2008-01-02 16:14:00       @lvea  develop    False         3171   \n6 2008-01-03 12:55:00    @abbasov      NaN    False          435   \n7 2008-01-03 17:20:00     @Andrey     misc    False         3291   \n8 2008-01-03 22:54:00  @kvladimir  develop    False         1953   \n9 2008-01-03 23:56:00       @lvea  develop    False         3712   \n\n                                               title  comments  favs  views  \\\n0     Новогодний подарок блоггерам — WordPress 2.3.2         0     0    236   \n1  Сумасшедшие яйца, или сервис для отслеживания ...         1     1    353   \n2  Сумасшедшие яйца, или сервис для отслеживания ...        47    72   1200   \n3     Сглаживание шрифтов, и субпиксельная отрисовка       102    36   5700   \n4                      Почему мне не нравится iPhone       230     6   1400   \n5                     Mobile2.0 Всеобщая доступность        22     1    192   \n6                                 Modbook в действии        10     0    301   \n7                     В чем суть проекта Vladelia.ru        64     1    141   \n8  Подтверждено: Wikia Search запускается в понед...        23     2    208   \n9   Mobile 2.0 Выбор предпочтительного способа связи         6     1    401   \n\n   votes_plus  votes_minus  views_lognorm  favs_lognorm  comments_lognorm  \\\n0         0.0          0.0      -0.792687     -1.344075         -2.436871   \n1         1.0          0.0      -0.485214     -0.831946         -1.873193   \n2        45.0          5.0       0.446090      1.794023          0.574656   \n3        72.0          3.0       1.627469      1.300050          1.167375   \n4        73.0         15.0       1.362397      0.961094          2.020356   \n5         9.0          2.0      -0.950075     -0.825149          0.016555   \n6         5.0          1.0      -0.402140     -1.278643         -0.355525   \n7        17.0         20.0      -1.168569     -0.822414          0.801626   \n8        21.0          3.0      -0.878984     -0.525245          0.041000   \n9         2.0          0.0      -0.389766     -0.817507         -0.896510   \n\n   year  \n0  2008  \n1  2008  \n2  2008  \n3  2008  \n4  2008  \n5  2008  \n6  2008  \n7  2008  \n8  2008  \n9  2008  ",
      "text/html": "<div>\n<style scoped>\n    .dataframe tbody tr th:only-of-type {\n        vertical-align: middle;\n    }\n\n    .dataframe tbody tr th {\n        vertical-align: top;\n    }\n\n    .dataframe thead th {\n        text-align: right;\n    }\n</style>\n<table border=\"1\" class=\"dataframe\">\n  <thead>\n    <tr style=\"text-align: right;\">\n      <th></th>\n      <th>url</th>\n      <th>domain</th>\n      <th>post_id</th>\n      <th>published</th>\n      <th>author</th>\n      <th>flow</th>\n      <th>polling</th>\n      <th>content_len</th>\n      <th>title</th>\n      <th>comments</th>\n      <th>favs</th>\n      <th>views</th>\n      <th>votes_plus</th>\n      <th>votes_minus</th>\n      <th>views_lognorm</th>\n      <th>favs_lognorm</th>\n      <th>comments_lognorm</th>\n      <th>year</th>\n    </tr>\n  </thead>\n  <tbody>\n    <tr>\n      <th>0</th>\n      <td>https://habrahabr.ru/post/18284/</td>\n      <td>habrahabr.ru</td>\n      <td>18284</td>\n      <td>2008-01-01 18:19:00</td>\n      <td>@Tapac</td>\n      <td>develop</td>\n      <td>False</td>\n      <td>4305</td>\n      <td>Новогодний подарок блоггерам — WordPress 2.3.2</td>\n      <td>0</td>\n      <td>0</td>\n      <td>236</td>\n      <td>0.0</td>\n      <td>0.0</td>\n      <td>-0.792687</td>\n      <td>-1.344075</td>\n      <td>-2.436871</td>\n      <td>2008</td>\n    </tr>\n    <tr>\n      <th>1</th>\n      <td>https://habrahabr.ru/post/18285/</td>\n      <td>habrahabr.ru</td>\n      <td>18285</td>\n      <td>2008-01-01 18:30:00</td>\n      <td>@DezmASter</td>\n      <td>design</td>\n      <td>False</td>\n      <td>7344</td>\n      <td>Сумасшедшие яйца, или сервис для отслеживания ...</td>\n      <td>1</td>\n      <td>1</td>\n      <td>353</td>\n      <td>1.0</td>\n      <td>0.0</td>\n      <td>-0.485214</td>\n      <td>-0.831946</td>\n      <td>-1.873193</td>\n      <td>2008</td>\n    </tr>\n    <tr>\n      <th>2</th>\n      <td>https://habrahabr.ru/post/18286/</td>\n      <td>habrahabr.ru</td>\n      <td>18286</td>\n      <td>2008-01-01 18:34:00</td>\n      <td>@DezmASter</td>\n      <td>design</td>\n      <td>False</td>\n      <td>8431</td>\n      <td>Сумасшедшие яйца, или сервис для отслеживания ...</td>\n      <td>47</td>\n      <td>72</td>\n      <td>1200</td>\n      <td>45.0</td>\n      <td>5.0</td>\n      <td>0.446090</td>\n      <td>1.794023</td>\n      <td>0.574656</td>\n      <td>2008</td>\n    </tr>\n    <tr>\n      <th>3</th>\n      <td>https://habrahabr.ru/post/18291/</td>\n      <td>habrahabr.ru</td>\n      <td>18291</td>\n      <td>2008-01-02 01:32:00</td>\n      <td>@Taoorus</td>\n      <td>design</td>\n      <td>False</td>\n      <td>5662</td>\n      <td>Сглаживание шрифтов, и субпиксельная отрисовка</td>\n      <td>102</td>\n      <td>36</td>\n      <td>5700</td>\n      <td>72.0</td>\n      <td>3.0</td>\n      <td>1.627469</td>\n      <td>1.300050</td>\n      <td>1.167375</td>\n      <td>2008</td>\n    </tr>\n    <tr>\n      <th>4</th>\n      <td>https://geektimes.ru/post/18294/</td>\n      <td>geektimes.ru</td>\n      <td>18294</td>\n      <td>2008-01-02 14:34:00</td>\n      <td>@dennydo</td>\n      <td>NaN</td>\n      <td>False</td>\n      <td>3706</td>\n      <td>Почему мне не нравится iPhone</td>\n      <td>230</td>\n      <td>6</td>\n      <td>1400</td>\n      <td>73.0</td>\n      <td>15.0</td>\n      <td>1.362397</td>\n      <td>0.961094</td>\n      <td>2.020356</td>\n      <td>2008</td>\n    </tr>\n    <tr>\n      <th>5</th>\n      <td>https://habrahabr.ru/post/18295/</td>\n      <td>habrahabr.ru</td>\n      <td>18295</td>\n      <td>2008-01-02 16:14:00</td>\n      <td>@lvea</td>\n      <td>develop</td>\n      <td>False</td>\n      <td>3171</td>\n      <td>Mobile2.0 Всеобщая доступность</td>\n      <td>22</td>\n      <td>1</td>\n      <td>192</td>\n      <td>9.0</td>\n      <td>2.0</td>\n      <td>-0.950075</td>\n      <td>-0.825149</td>\n      <td>0.016555</td>\n      <td>2008</td>\n    </tr>\n    <tr>\n      <th>6</th>\n      <td>https://geektimes.ru/post/18306/</td>\n      <td>geektimes.ru</td>\n      <td>18306</td>\n      <td>2008-01-03 12:55:00</td>\n      <td>@abbasov</td>\n      <td>NaN</td>\n      <td>False</td>\n      <td>435</td>\n      <td>Modbook в действии</td>\n      <td>10</td>\n      <td>0</td>\n      <td>301</td>\n      <td>5.0</td>\n      <td>1.0</td>\n      <td>-0.402140</td>\n      <td>-1.278643</td>\n      <td>-0.355525</td>\n      <td>2008</td>\n    </tr>\n    <tr>\n      <th>7</th>\n      <td>https://habrahabr.ru/post/18311/</td>\n      <td>habrahabr.ru</td>\n      <td>18311</td>\n      <td>2008-01-03 17:20:00</td>\n      <td>@Andrey</td>\n      <td>misc</td>\n      <td>False</td>\n      <td>3291</td>\n      <td>В чем суть проекта Vladelia.ru</td>\n      <td>64</td>\n      <td>1</td>\n      <td>141</td>\n      <td>17.0</td>\n      <td>20.0</td>\n      <td>-1.168569</td>\n      <td>-0.822414</td>\n      <td>0.801626</td>\n      <td>2008</td>\n    </tr>\n    <tr>\n      <th>8</th>\n      <td>https://habrahabr.ru/post/31352/</td>\n      <td>habrahabr.ru</td>\n      <td>31352</td>\n      <td>2008-01-03 22:54:00</td>\n      <td>@kvladimir</td>\n      <td>develop</td>\n      <td>False</td>\n      <td>1953</td>\n      <td>Подтверждено: Wikia Search запускается в понед...</td>\n      <td>23</td>\n      <td>2</td>\n      <td>208</td>\n      <td>21.0</td>\n      <td>3.0</td>\n      <td>-0.878984</td>\n      <td>-0.525245</td>\n      <td>0.041000</td>\n      <td>2008</td>\n    </tr>\n    <tr>\n      <th>9</th>\n      <td>https://habrahabr.ru/post/18314/</td>\n      <td>habrahabr.ru</td>\n      <td>18314</td>\n      <td>2008-01-03 23:56:00</td>\n      <td>@lvea</td>\n      <td>develop</td>\n      <td>False</td>\n      <td>3712</td>\n      <td>Mobile 2.0 Выбор предпочтительного способа связи</td>\n      <td>6</td>\n      <td>1</td>\n      <td>401</td>\n      <td>2.0</td>\n      <td>0.0</td>\n      <td>-0.389766</td>\n      <td>-0.817507</td>\n      <td>-0.896510</td>\n      <td>2008</td>\n    </tr>\n  </tbody>\n</table>\n</div>"
     },
     "execution_count": 42,
     "metadata": {},
     "output_type": "execute_result"
    }
   ],
   "source": [
    "train_df.head(10)"
   ]
  },
  {
   "cell_type": "code",
   "execution_count": 4,
   "metadata": {},
   "outputs": [
    {
     "data": {
      "text/plain": "((134137, 17), (3990, 9))"
     },
     "execution_count": 4,
     "metadata": {},
     "output_type": "execute_result"
    }
   ],
   "source": [
    "train_df.shape, test_df.shape"
   ]
  },
  {
   "cell_type": "markdown",
   "metadata": {},
   "source": [
    "Убедимся, что данные отсортированы по признаку `published`"
   ]
  },
  {
   "cell_type": "code",
   "execution_count": 5,
   "metadata": {},
   "outputs": [
    {
     "data": {
      "text/plain": "<Figure size 640x480 with 1 Axes>",
      "image/png": "[encoded data removed]"
     },
     "metadata": {},
     "output_type": "display_data"
    }
   ],
   "source": [
    "train_df['published'].apply(lambda ts: pd.to_datetime(ts).value).plot();"
   ]
  },
  {
   "cell_type": "markdown",
   "metadata": {},
   "source": [
    "**Чтобы ответить на вопросы 1 и 2, можно использовать [pandas.DataFrame.corr()](http://pandas.pydata.org/pandas-docs/stable/generated/pandas.DataFrame.corr.html), [pandas.to_datetime()](http://pandas.pydata.org/pandas-docs/stable/generated/pandas.to_datetime.html) и [pandas.Series.value_counts()](http://pandas.pydata.org/pandas-docs/stable/generated/pandas.Series.value_counts.html)**"
   ]
  },
  {
   "cell_type": "markdown",
   "metadata": {},
   "source": [
    "<font color='red'>Вопрос 1.</font> Есть ли в train_df признаки, корреляция между которыми больше 0.9? Обратите внимание, именно различные признаки - корреляция признака с самим собой естественно больше 0.9 :)\n",
    "- да\n",
    "- нет\n",
    "- не знаю"
   ]
  },
  {
   "cell_type": "code",
   "execution_count": 6,
   "metadata": {},
   "outputs": [
    {
     "name": "stdout",
     "output_type": "stream",
     "text": [
      "<class 'pandas.core.frame.DataFrame'>\n",
      "RangeIndex: 134137 entries, 0 to 134136\n",
      "Data columns (total 17 columns):\n",
      " #   Column            Non-Null Count   Dtype  \n",
      "---  ------            --------------   -----  \n",
      " 0   url               134137 non-null  object \n",
      " 1   domain            134137 non-null  object \n",
      " 2   post_id           134137 non-null  int64  \n",
      " 3   published         134137 non-null  object \n",
      " 4   author            97657 non-null   object \n",
      " 5   flow              97048 non-null   object \n",
      " 6   polling           134137 non-null  bool   \n",
      " 7   content_len       134137 non-null  int64  \n",
      " 8   title             134137 non-null  object \n",
      " 9   comments          134137 non-null  int64  \n",
      " 10  favs              134137 non-null  int64  \n",
      " 11  views             134137 non-null  int64  \n",
      " 12  votes_plus        133566 non-null  float64\n",
      " 13  votes_minus       133566 non-null  float64\n",
      " 14  views_lognorm     134137 non-null  float64\n",
      " 15  favs_lognorm      134137 non-null  float64\n",
      " 16  comments_lognorm  134137 non-null  float64\n",
      "dtypes: bool(1), float64(5), int64(5), object(6)\n",
      "memory usage: 16.5+ MB\n"
     ]
    }
   ],
   "source": [
    "# ваш код здесь\n",
    "train_df.info()"
   ]
  },
  {
   "cell_type": "code",
   "execution_count": 7,
   "outputs": [
    {
     "name": "stderr",
     "output_type": "stream",
     "text": [
      "/tmp/ipykernel_989/1952369581.py:1: FutureWarning: The default value of numeric_only in DataFrame.corr is deprecated. In a future version, it will default to False. Select only valid columns or specify the value of numeric_only to silence this warning.\n",
      "  train_df.drop('post_id', axis=1).corr()\n"
     ]
    },
    {
     "data": {
      "text/plain": "                   polling  content_len  comments      favs     views  \\\npolling           1.000000    -0.003337  0.042605  0.006882  0.025660   \ncontent_len      -0.003337     1.000000 -0.023544  0.308194  0.204101   \ncomments          0.042605    -0.023544  1.000000  0.164166  0.290035   \nfavs              0.006882     0.308194  0.164166  1.000000  0.634304   \nviews             0.025660     0.204101  0.290035  0.634304  1.000000   \nvotes_plus       -0.033505     0.068779  0.613961  0.416241  0.396849   \nvotes_minus       0.027116    -0.078686  0.457638  0.062877  0.128654   \nviews_lognorm    -0.003523     0.246063  0.349568  0.456097  0.585105   \nfavs_lognorm     -0.036385     0.356481  0.278942  0.587982  0.406782   \ncomments_lognorm  0.071417     0.073132  0.662740  0.263239  0.326427   \n\n                  votes_plus  votes_minus  views_lognorm  favs_lognorm  \\\npolling            -0.033505     0.027116      -0.003523     -0.036385   \ncontent_len         0.068779    -0.078686       0.246063      0.356481   \ncomments            0.613961     0.457638       0.349568      0.278942   \nfavs                0.416241     0.062877       0.456097      0.587982   \nviews               0.396849     0.128654       0.585105      0.406782   \nvotes_plus          1.000000     0.464168       0.414232      0.449712   \nvotes_minus         0.464168     1.000000       0.146609      0.088226   \nviews_lognorm       0.414232     0.146609       1.000000      0.688811   \nfavs_lognorm        0.449712     0.088226       0.688811      1.000000   \ncomments_lognorm    0.525081     0.355458       0.546530      0.479476   \n\n                  comments_lognorm  \npolling                   0.071417  \ncontent_len               0.073132  \ncomments                  0.662740  \nfavs                      0.263239  \nviews                     0.326427  \nvotes_plus                0.525081  \nvotes_minus               0.355458  \nviews_lognorm             0.546530  \nfavs_lognorm              0.479476  \ncomments_lognorm          1.000000  ",
      "text/html": "<div>\n<style scoped>\n    .dataframe tbody tr th:only-of-type {\n        vertical-align: middle;\n    }\n\n    .dataframe tbody tr th {\n        vertical-align: top;\n    }\n\n    .dataframe thead th {\n        text-align: right;\n    }\n</style>\n<table border=\"1\" class=\"dataframe\">\n  <thead>\n    <tr style=\"text-align: right;\">\n      <th></th>\n      <th>polling</th>\n      <th>content_len</th>\n      <th>comments</th>\n      <th>favs</th>\n      <th>views</th>\n      <th>votes_plus</th>\n      <th>votes_minus</th>\n      <th>views_lognorm</th>\n      <th>favs_lognorm</th>\n      <th>comments_lognorm</th>\n    </tr>\n  </thead>\n  <tbody>\n    <tr>\n      <th>polling</th>\n      <td>1.000000</td>\n      <td>-0.003337</td>\n      <td>0.042605</td>\n      <td>0.006882</td>\n      <td>0.025660</td>\n      <td>-0.033505</td>\n      <td>0.027116</td>\n      <td>-0.003523</td>\n      <td>-0.036385</td>\n      <td>0.071417</td>\n    </tr>\n    <tr>\n      <th>content_len</th>\n      <td>-0.003337</td>\n      <td>1.000000</td>\n      <td>-0.023544</td>\n      <td>0.308194</td>\n      <td>0.204101</td>\n      <td>0.068779</td>\n      <td>-0.078686</td>\n      <td>0.246063</td>\n      <td>0.356481</td>\n      <td>0.073132</td>\n    </tr>\n    <tr>\n      <th>comments</th>\n      <td>0.042605</td>\n      <td>-0.023544</td>\n      <td>1.000000</td>\n      <td>0.164166</td>\n      <td>0.290035</td>\n      <td>0.613961</td>\n      <td>0.457638</td>\n      <td>0.349568</td>\n      <td>0.278942</td>\n      <td>0.662740</td>\n    </tr>\n    <tr>\n      <th>favs</th>\n      <td>0.006882</td>\n      <td>0.308194</td>\n      <td>0.164166</td>\n      <td>1.000000</td>\n      <td>0.634304</td>\n      <td>0.416241</td>\n      <td>0.062877</td>\n      <td>0.456097</td>\n      <td>0.587982</td>\n      <td>0.263239</td>\n    </tr>\n    <tr>\n      <th>views</th>\n      <td>0.025660</td>\n      <td>0.204101</td>\n      <td>0.290035</td>\n      <td>0.634304</td>\n      <td>1.000000</td>\n      <td>0.396849</td>\n      <td>0.128654</td>\n      <td>0.585105</td>\n      <td>0.406782</td>\n      <td>0.326427</td>\n    </tr>\n    <tr>\n      <th>votes_plus</th>\n      <td>-0.033505</td>\n      <td>0.068779</td>\n      <td>0.613961</td>\n      <td>0.416241</td>\n      <td>0.396849</td>\n      <td>1.000000</td>\n      <td>0.464168</td>\n      <td>0.414232</td>\n      <td>0.449712</td>\n      <td>0.525081</td>\n    </tr>\n    <tr>\n      <th>votes_minus</th>\n      <td>0.027116</td>\n      <td>-0.078686</td>\n      <td>0.457638</td>\n      <td>0.062877</td>\n      <td>0.128654</td>\n      <td>0.464168</td>\n      <td>1.000000</td>\n      <td>0.146609</td>\n      <td>0.088226</td>\n      <td>0.355458</td>\n    </tr>\n    <tr>\n      <th>views_lognorm</th>\n      <td>-0.003523</td>\n      <td>0.246063</td>\n      <td>0.349568</td>\n      <td>0.456097</td>\n      <td>0.585105</td>\n      <td>0.414232</td>\n      <td>0.146609</td>\n      <td>1.000000</td>\n      <td>0.688811</td>\n      <td>0.546530</td>\n    </tr>\n    <tr>\n      <th>favs_lognorm</th>\n      <td>-0.036385</td>\n      <td>0.356481</td>\n      <td>0.278942</td>\n      <td>0.587982</td>\n      <td>0.406782</td>\n      <td>0.449712</td>\n      <td>0.088226</td>\n      <td>0.688811</td>\n      <td>1.000000</td>\n      <td>0.479476</td>\n    </tr>\n    <tr>\n      <th>comments_lognorm</th>\n      <td>0.071417</td>\n      <td>0.073132</td>\n      <td>0.662740</td>\n      <td>0.263239</td>\n      <td>0.326427</td>\n      <td>0.525081</td>\n      <td>0.355458</td>\n      <td>0.546530</td>\n      <td>0.479476</td>\n      <td>1.000000</td>\n    </tr>\n  </tbody>\n</table>\n</div>"
     },
     "execution_count": 7,
     "metadata": {},
     "output_type": "execute_result"
    }
   ],
   "source": [
    "train_df.drop('post_id', axis=1).corr()"
   ],
   "metadata": {
    "collapsed": false
   }
  },
  {
   "cell_type": "code",
   "execution_count": 8,
   "outputs": [
    {
     "name": "stderr",
     "output_type": "stream",
     "text": [
      "/tmp/ipykernel_989/2569711181.py:1: FutureWarning: The default value of numeric_only in DataFrame.corr is deprecated. In a future version, it will default to False. Select only valid columns or specify the value of numeric_only to silence this warning.\n",
      "  sns.heatmap(train_df.corr())\n"
     ]
    },
    {
     "data": {
      "text/plain": "<AxesSubplot: >"
     },
     "execution_count": 8,
     "metadata": {},
     "output_type": "execute_result"
    },
    {
     "data": {
      "text/plain": "<Figure size 640x480 with 2 Axes>",
      "image/png": "[encoded data removed]"
     },
     "metadata": {},
     "output_type": "display_data"
    }
   ],
   "source": [
    "sns.heatmap(train_df.corr())"
   ],
   "metadata": {
    "collapsed": false
   }
  },
  {
   "cell_type": "markdown",
   "metadata": {},
   "source": [
    "<font color='red'>Вопрос 2.</font> В каком году было больше всего публикаций? (Рассматриваем train_df)\n",
    "- 2014\n",
    "- 2015\n",
    "- 2016\n",
    "- 2017"
   ]
  },
  {
   "cell_type": "code",
   "execution_count": 9,
   "metadata": {},
   "outputs": [
    {
     "data": {
      "text/plain": "<AxesSubplot: xlabel='year', ylabel='count'>"
     },
     "execution_count": 9,
     "metadata": {},
     "output_type": "execute_result"
    },
    {
     "data": {
      "text/plain": "<Figure size 640x480 with 1 Axes>",
      "image/png": "[encoded data removed]"
     },
     "metadata": {},
     "output_type": "display_data"
    }
   ],
   "source": [
    "# ваш код здесь\n",
    "train_df.published = pd.to_datetime(train_df.published, yearfirst=True)  # переводим из object в datetime64\n",
    "train_df['year'] = [d.year for d in train_df.published]  # добавляем столбец год\n",
    "sns.countplot(data=train_df, x=train_df.year)  # на гистограмме видно, что больше всего публикаций было в 2015 году"
   ]
  },
  {
   "cell_type": "markdown",
   "metadata": {},
   "source": [
    "## Разбиение на train/valid\n",
    "Используем только признаки 'author', 'flow', 'domain' и 'title'"
   ]
  },
  {
   "cell_type": "code",
   "execution_count": 10,
   "metadata": {},
   "outputs": [],
   "source": [
    "features = ['author', 'flow', 'domain','title']\n",
    "train_size = int(0.7 * train_df.shape[0])"
   ]
  },
  {
   "cell_type": "code",
   "execution_count": 11,
   "metadata": {},
   "outputs": [
    {
     "data": {
      "text/plain": "(134137, 93895)"
     },
     "execution_count": 11,
     "metadata": {},
     "output_type": "execute_result"
    }
   ],
   "source": [
    "len(train_df), train_size"
   ]
  },
  {
   "cell_type": "code",
   "execution_count": 12,
   "metadata": {},
   "outputs": [],
   "source": [
    "X, y = train_df.loc[:, features],  train_df['favs_lognorm'] #отделяем признаки от целевой переменной\n",
    "\n",
    "X_test = test_df.loc[:, features]"
   ]
  },
  {
   "cell_type": "code",
   "execution_count": 13,
   "metadata": {},
   "outputs": [],
   "source": [
    "X_train, X_valid = X.iloc[:train_size, :], X.iloc[train_size:,:]\n",
    "\n",
    "y_train, y_valid = y.iloc[:train_size], y.iloc[train_size:]"
   ]
  },
  {
   "cell_type": "markdown",
   "metadata": {},
   "source": [
    "## Применение TfidfVectorizer\n",
    "\n",
    "**TF-IDF** (от англ. TF — term frequency, IDF — inverse document frequency) — статистическая мера, используемая для оценки важности слова в контексте документа, являющегося частью коллекции документов или корпуса. Вес некоторого слова пропорционален количеству употребления этого слова в документе, и обратно пропорционален частоте употребления слова в других документах коллекции. [Подробнее в источнике](https://ru.wikipedia.org/wiki/TF-IDF)\n",
    "\n",
    "TfidfVectorizer преобразует тексты в матрицу TF-IDF признаков.\n",
    "\n",
    "**Основные параметры TfidfVectorizer в sklearn:**\n",
    "- **min_df** - при построении словаря слова, которые встречаются *реже*, чем указанное значение, игнорируются\n",
    "- **max_df** - при построении словаря слова, которые встречаются *чаще*, чем указанное значение, игнорируются\n",
    "- **analyzer** - определяет, строятся ли признаки по словам или по символам (буквам)\n",
    "- **ngram_range** - определяет, формируются ли признаки только из отдельных слов или из нескольких слов (в случае с analyzer='char' задает количество символов). Например, если указать analyzer='word' и ngram_range=(1,3),то признаки будут формироваться из отдельных слов, из пар слов и из троек слов.\n",
    "- **stop_words** - слова, которые игнорируются при построении матрицы\n",
    "\n",
    "Более подробно с параметрами можно ознакомиться в [документации](http://scikit-learn.org/stable/modules/generated/sklearn.feature_extraction.text.TfidfVectorizer.html)"
   ]
  },
  {
   "cell_type": "markdown",
   "metadata": {},
   "source": [
    "**Инициализируйте TfidfVectorizer с параметрами min_df=3, max_df=0.3 и ngram_range=(1, 3).<br />\n",
    "Примените метод fit_transform к X_train['title'] и метод transform к X_valid['title'] и X_test['title']**"
   ]
  },
  {
   "cell_type": "markdown",
   "metadata": {},
   "source": [
    "<font color='red'>Вопрос 3.</font> Какой размер у полученного словаря?\n",
    "- 43789\n",
    "- 50624\n",
    "- 93895\n",
    "- 74378"
   ]
  },
  {
   "cell_type": "code",
   "execution_count": 14,
   "metadata": {},
   "outputs": [],
   "source": [
    "vectorizer_title = TfidfVectorizer(min_df=3, max_df=0.3, ngram_range=(1,3))  # ваш код здесь\n",
    "\n",
    "X_train_title = vectorizer_title.fit_transform(X_train.title)# и здесь\n",
    "X_valid_title = vectorizer_title.transform(X_valid.title)# и тут тоже\n",
    "X_test_title = vectorizer_title.transform(X_test.title)# и тут"
   ]
  },
  {
   "cell_type": "code",
   "execution_count": 15,
   "outputs": [
    {
     "name": "stdout",
     "output_type": "stream",
     "text": [
      "(93895, 50624)\n",
      "(40242, 50624)\n",
      "(3990, 50624)\n"
     ]
    }
   ],
   "source": [
    "print(X_train_title.shape)\n",
    "print(X_valid_title.shape)\n",
    "print(X_test_title.shape)"
   ],
   "metadata": {
    "collapsed": false
   }
  },
  {
   "cell_type": "code",
   "execution_count": 16,
   "metadata": {},
   "outputs": [
    {
     "data": {
      "text/plain": "9065"
     },
     "execution_count": 16,
     "metadata": {},
     "output_type": "execute_result"
    }
   ],
   "source": [
    "# Можно посмотреть словарь в виде {'термин': индекс признака,...}\n",
    "vectorizer_title.vocabulary_['python']"
   ]
  },
  {
   "cell_type": "code",
   "execution_count": 17,
   "metadata": {},
   "outputs": [
    {
     "data": {
      "text/plain": "(93895, 50624)"
     },
     "execution_count": 17,
     "metadata": {},
     "output_type": "execute_result"
    }
   ],
   "source": [
    "X_train_title.shape  # ваш код здесь"
   ]
  },
  {
   "cell_type": "markdown",
   "metadata": {},
   "source": [
    "<font color='red'>Вопрос 4.</font> Какой индекс у слова 'python'?\n",
    "- 1\n",
    "- 10\n",
    "- 9065\n",
    "- 15679"
   ]
  },
  {
   "cell_type": "code",
   "execution_count": 18,
   "metadata": {},
   "outputs": [
    {
     "data": {
      "text/plain": "array(['00', '00 msk', '00 мск', ..., 'ящиков', 'ёлка', 'ёлку'],\n      dtype=object)"
     },
     "execution_count": 18,
     "metadata": {},
     "output_type": "execute_result"
    }
   ],
   "source": [
    "vectorizer_title.get_feature_names_out() # ваш код здесь"
   ]
  },
  {
   "cell_type": "markdown",
   "metadata": {},
   "source": [
    "**Инициализируйте TfidfVectorizer, указав analyzer='char'.<br />\n",
    "Примените метод fit_transform к X_train['title'] и метод transform к X_valid['title'] и X_test['title']**"
   ]
  },
  {
   "cell_type": "markdown",
   "metadata": {},
   "source": [
    "<font color='red'>Вопрос 5.</font> Какой размер у полученного словаря?\n",
    "- 218\n",
    "- 510\n",
    "- 125\n",
    "- 981"
   ]
  },
  {
   "cell_type": "code",
   "execution_count": 19,
   "metadata": {},
   "outputs": [],
   "source": [
    "vectorizer_title_ch = TfidfVectorizer(analyzer='char')  # ваш код здесь\n",
    "\n",
    "X_train_title_ch = vectorizer_title_ch.fit_transform(X_train.title)  #...\n",
    "X_valid_title_ch = vectorizer_title_ch.transform(X_valid.title)  #...\n",
    "X_test_title_ch = vectorizer_title_ch.transform(X_test.title)  #..."
   ]
  },
  {
   "cell_type": "code",
   "execution_count": 20,
   "outputs": [
    {
     "name": "stdout",
     "output_type": "stream",
     "text": [
      "(93895, 218)\n",
      "(40242, 218)\n",
      "(3990, 218)\n"
     ]
    }
   ],
   "source": [
    "print(X_train_title_ch.shape)\n",
    "print(X_valid_title_ch.shape)\n",
    "print(X_test_title_ch.shape)"
   ],
   "metadata": {
    "collapsed": false
   }
  },
  {
   "cell_type": "code",
   "execution_count": 21,
   "metadata": {},
   "outputs": [
    {
     "data": {
      "text/plain": "218"
     },
     "execution_count": 21,
     "metadata": {},
     "output_type": "execute_result"
    }
   ],
   "source": [
    "# Здесь так же можно посмотреть словарь\n",
    "# Заметьте насколько отличаются словари для TfidfVectorizer с analyzer='word' и analyzer='char'\n",
    "len(vectorizer_title_ch.vocabulary_)"
   ]
  },
  {
   "cell_type": "code",
   "execution_count": 22,
   "metadata": {},
   "outputs": [],
   "source": [
    "# ваш код здесь"
   ]
  },
  {
   "cell_type": "markdown",
   "metadata": {},
   "source": [
    "## Работа с категориальными признаками\n",
    "\n",
    "Для обработки категориальных признаков 'author', 'flow', 'domain' мы будем использовать DictVectorizer из sklearn."
   ]
  },
  {
   "cell_type": "code",
   "execution_count": 23,
   "metadata": {},
   "outputs": [
    {
     "data": {
      "text/plain": "       author     flow        domain\n0      @Tapac  develop  habrahabr.ru\n1  @DezmASter   design  habrahabr.ru\n2  @DezmASter   design  habrahabr.ru\n3    @Taoorus   design  habrahabr.ru\n4    @dennydo      NaN  geektimes.ru",
      "text/html": "<div>\n<style scoped>\n    .dataframe tbody tr th:only-of-type {\n        vertical-align: middle;\n    }\n\n    .dataframe tbody tr th {\n        vertical-align: top;\n    }\n\n    .dataframe thead th {\n        text-align: right;\n    }\n</style>\n<table border=\"1\" class=\"dataframe\">\n  <thead>\n    <tr style=\"text-align: right;\">\n      <th></th>\n      <th>author</th>\n      <th>flow</th>\n      <th>domain</th>\n    </tr>\n  </thead>\n  <tbody>\n    <tr>\n      <th>0</th>\n      <td>@Tapac</td>\n      <td>develop</td>\n      <td>habrahabr.ru</td>\n    </tr>\n    <tr>\n      <th>1</th>\n      <td>@DezmASter</td>\n      <td>design</td>\n      <td>habrahabr.ru</td>\n    </tr>\n    <tr>\n      <th>2</th>\n      <td>@DezmASter</td>\n      <td>design</td>\n      <td>habrahabr.ru</td>\n    </tr>\n    <tr>\n      <th>3</th>\n      <td>@Taoorus</td>\n      <td>design</td>\n      <td>habrahabr.ru</td>\n    </tr>\n    <tr>\n      <th>4</th>\n      <td>@dennydo</td>\n      <td>NaN</td>\n      <td>geektimes.ru</td>\n    </tr>\n  </tbody>\n</table>\n</div>"
     },
     "execution_count": 23,
     "metadata": {},
     "output_type": "execute_result"
    }
   ],
   "source": [
    "feats = ['author', 'flow', 'domain']\n",
    "X_train[feats][:5]"
   ]
  },
  {
   "cell_type": "markdown",
   "metadata": {},
   "source": [
    "Рассмотрим как он работает на примере первых пяти строк"
   ]
  },
  {
   "cell_type": "code",
   "execution_count": 24,
   "metadata": {},
   "outputs": [
    {
     "data": {
      "text/plain": "       author     flow        domain\n0      @Tapac  develop  habrahabr.ru\n1  @DezmASter   design  habrahabr.ru\n2  @DezmASter   design  habrahabr.ru\n3    @Taoorus   design  habrahabr.ru\n4    @dennydo        -  geektimes.ru",
      "text/html": "<div>\n<style scoped>\n    .dataframe tbody tr th:only-of-type {\n        vertical-align: middle;\n    }\n\n    .dataframe tbody tr th {\n        vertical-align: top;\n    }\n\n    .dataframe thead th {\n        text-align: right;\n    }\n</style>\n<table border=\"1\" class=\"dataframe\">\n  <thead>\n    <tr style=\"text-align: right;\">\n      <th></th>\n      <th>author</th>\n      <th>flow</th>\n      <th>domain</th>\n    </tr>\n  </thead>\n  <tbody>\n    <tr>\n      <th>0</th>\n      <td>@Tapac</td>\n      <td>develop</td>\n      <td>habrahabr.ru</td>\n    </tr>\n    <tr>\n      <th>1</th>\n      <td>@DezmASter</td>\n      <td>design</td>\n      <td>habrahabr.ru</td>\n    </tr>\n    <tr>\n      <th>2</th>\n      <td>@DezmASter</td>\n      <td>design</td>\n      <td>habrahabr.ru</td>\n    </tr>\n    <tr>\n      <th>3</th>\n      <td>@Taoorus</td>\n      <td>design</td>\n      <td>habrahabr.ru</td>\n    </tr>\n    <tr>\n      <th>4</th>\n      <td>@dennydo</td>\n      <td>-</td>\n      <td>geektimes.ru</td>\n    </tr>\n  </tbody>\n</table>\n</div>"
     },
     "execution_count": 24,
     "metadata": {},
     "output_type": "execute_result"
    }
   ],
   "source": [
    "# сначала заполняем пропуски прочерком\n",
    "X_train[feats][:5].fillna('-')"
   ]
  },
  {
   "cell_type": "code",
   "execution_count": 25,
   "metadata": {},
   "outputs": [
    {
     "data": {
      "text/plain": "{0: {'author': '@Tapac', 'flow': 'develop', 'domain': 'habrahabr.ru'},\n 1: {'author': '@DezmASter', 'flow': 'design', 'domain': 'habrahabr.ru'},\n 2: {'author': '@DezmASter', 'flow': 'design', 'domain': 'habrahabr.ru'},\n 3: {'author': '@Taoorus', 'flow': 'design', 'domain': 'habrahabr.ru'},\n 4: {'author': '@dennydo', 'flow': '-', 'domain': 'geektimes.ru'}}"
     },
     "execution_count": 25,
     "metadata": {},
     "output_type": "execute_result"
    }
   ],
   "source": [
    "# Преобразуем датафрейм в словарь, где ключами являются индексы объектов (именно для этого мы транспонировали датафрейм),\n",
    "# а значениями являются словари в виде 'название_колонки':'значение'\n",
    "X_train[feats][:5].fillna('-').T.to_dict()"
   ]
  },
  {
   "cell_type": "code",
   "execution_count": 26,
   "metadata": {},
   "outputs": [
    {
     "data": {
      "text/plain": "dict_values([{'author': '@Tapac', 'flow': 'develop', 'domain': 'habrahabr.ru'}, {'author': '@DezmASter', 'flow': 'design', 'domain': 'habrahabr.ru'}, {'author': '@DezmASter', 'flow': 'design', 'domain': 'habrahabr.ru'}, {'author': '@Taoorus', 'flow': 'design', 'domain': 'habrahabr.ru'}, {'author': '@dennydo', 'flow': '-', 'domain': 'geektimes.ru'}])"
     },
     "execution_count": 26,
     "metadata": {},
     "output_type": "execute_result"
    }
   ],
   "source": [
    "# В DictVectorizer нам нужно будет передать список словарей для каждого объекта в виде 'название_колонки':'значение',\n",
    "# поэтому используем .values()\n",
    "X_train[feats][:5].fillna('-').T.to_dict().values()"
   ]
  },
  {
   "cell_type": "code",
   "execution_count": 27,
   "metadata": {},
   "outputs": [
    {
     "data": {
      "text/plain": "<5x9 sparse matrix of type '<class 'numpy.float64'>'\n\twith 15 stored elements in Compressed Sparse Row format>"
     },
     "execution_count": 27,
     "metadata": {},
     "output_type": "execute_result"
    }
   ],
   "source": [
    "# В итоге получается разреженная матрица\n",
    "dict_vect = DictVectorizer()\n",
    "dict_vect_matrix = dict_vect.fit_transform(X_train[feats][:5].fillna('-').T.to_dict().values())\n",
    "dict_vect_matrix"
   ]
  },
  {
   "cell_type": "code",
   "execution_count": 28,
   "metadata": {},
   "outputs": [
    {
     "data": {
      "text/plain": "array([[0., 0., 1., 0., 0., 1., 0., 0., 1.],\n       [1., 0., 0., 0., 0., 1., 0., 1., 0.],\n       [1., 0., 0., 0., 0., 1., 0., 1., 0.],\n       [0., 1., 0., 0., 0., 1., 0., 1., 0.],\n       [0., 0., 0., 1., 1., 0., 1., 0., 0.]])"
     },
     "execution_count": 28,
     "metadata": {},
     "output_type": "execute_result"
    }
   ],
   "source": [
    "# Но можно преобразовать ее в numpy array с помощью .toarray()\n",
    "dict_vect_matrix.toarray()"
   ]
  },
  {
   "cell_type": "code",
   "execution_count": 29,
   "metadata": {},
   "outputs": [
    {
     "data": {
      "text/plain": "(5, 9)"
     },
     "execution_count": 29,
     "metadata": {},
     "output_type": "execute_result"
    }
   ],
   "source": [
    "# В получившейся матрице 5 строк (по числу объектов) и 9 столбцов\n",
    "# Далее разберемся почему колонок именно 9\n",
    "dict_vect_matrix.shape"
   ]
  },
  {
   "cell_type": "markdown",
   "metadata": {},
   "source": [
    "Посмотрим сколько уникальных значений в каждой колонке.<br />\n",
    "Суммарно их 9 - столько же, сколько и колонок. Это объясняется тем, что для категориальных признаков со строковыми значениями DictVectorizer делает кодирование бинарными признаками - каждому уникальному значению признака соответствует один новый бинарный признак, который равен 1 только в том случае, если в исходной матрице этот признак принимает значение, которому соответствует эта колонка новой матрицы."
   ]
  },
  {
   "cell_type": "code",
   "execution_count": 30,
   "metadata": {},
   "outputs": [
    {
     "name": "stdout",
     "output_type": "stream",
     "text": [
      "author 4\n",
      "flow 3\n",
      "domain 2\n"
     ]
    }
   ],
   "source": [
    "for col in feats:\n",
    "    print(col,len(X_train[col][:5].fillna('-').unique()))"
   ]
  },
  {
   "cell_type": "markdown",
   "metadata": {},
   "source": [
    "Также можно посмотреть что означает каждая колонка полученной матрицы"
   ]
  },
  {
   "cell_type": "code",
   "execution_count": 31,
   "metadata": {},
   "outputs": [
    {
     "data": {
      "text/plain": "['author=@DezmASter',\n 'author=@Taoorus',\n 'author=@Tapac',\n 'author=@dennydo',\n 'domain=geektimes.ru',\n 'domain=habrahabr.ru',\n 'flow=-',\n 'flow=design',\n 'flow=develop']"
     },
     "execution_count": 31,
     "metadata": {},
     "output_type": "execute_result"
    }
   ],
   "source": [
    "# например, самая первая колонка называется 'author=@DezmASter' - то есть принимает значение 1 только если автор @DezmASter\n",
    "dict_vect.feature_names_"
   ]
  },
  {
   "cell_type": "markdown",
   "metadata": {},
   "source": [
    "**Инициализируйте DictVectorizer с параметрами по умолчанию.<br />\n",
    "Примените метод fit_transform к X_train[feats] и метод transform к X_valid[feats] и X_test[feats]**"
   ]
  },
  {
   "cell_type": "code",
   "execution_count": 32,
   "metadata": {},
   "outputs": [],
   "source": [
    "vectorizer_feats = DictVectorizer()  #ваш код здесь\n",
    "\n",
    "X_train_feats = vectorizer_feats.fit_transform(X_train[feats].fillna('-').T.to_dict().values()) #...\n",
    "X_valid_feats = vectorizer_feats.transform(X_valid[feats].fillna('-').T.to_dict().values())  #...\n",
    "X_test_feats = vectorizer_feats.transform(X_test[feats].fillna('-').T.to_dict().values())  #..."
   ]
  },
  {
   "cell_type": "code",
   "execution_count": 33,
   "outputs": [
    {
     "name": "stdout",
     "output_type": "stream",
     "text": [
      "(93895, 17869)\n",
      "(40242, 17869)\n",
      "(3990, 17869)\n"
     ]
    }
   ],
   "source": [
    "print(X_train_feats.shape)\n",
    "print(X_valid_feats.shape)\n",
    "print(X_test_feats.shape)"
   ],
   "metadata": {
    "collapsed": false
   }
  },
  {
   "cell_type": "markdown",
   "metadata": {},
   "source": [
    "Соединим все полученные матрицы при помощи scipy.sparse.hstack()"
   ]
  },
  {
   "cell_type": "code",
   "execution_count": 34,
   "metadata": {},
   "outputs": [],
   "source": [
    "X_train_new = scipy.sparse.hstack([X_train_title, X_train_feats, X_train_title_ch])\n",
    "X_valid_new = scipy.sparse.hstack([X_valid_title, X_valid_feats, X_valid_title_ch])\n",
    "X_test_new =  scipy.sparse.hstack([X_test_title, X_test_feats, X_test_title_ch])"
   ]
  },
  {
   "cell_type": "code",
   "execution_count": 35,
   "outputs": [
    {
     "name": "stdout",
     "output_type": "stream",
     "text": [
      "(93895, 68711)\n",
      "(40242, 68711)\n",
      "(3990, 68711)\n"
     ]
    }
   ],
   "source": [
    "print(X_train_new.shape)\n",
    "print(X_valid_new.shape)\n",
    "print(X_test_new.shape)"
   ],
   "metadata": {
    "collapsed": false
   }
  },
  {
   "cell_type": "code",
   "execution_count": 35,
   "outputs": [],
   "source": [],
   "metadata": {
    "collapsed": false
   }
  },
  {
   "cell_type": "markdown",
   "metadata": {},
   "source": [
    "## Обучение модели\n",
    "\n",
    "Далее будем использовать Ridge, линейную модель с l2-регуляризацией.\n",
    "[Документация](http://scikit-learn.org/stable/modules/generated/sklearn.linear_model.Ridge.html)\n",
    "\n",
    "Основной параметр Ridge - **alpha, коэффициент регуляризации**. Регуляризация используется для улучшения обобщающей способности модели - прибавляя к функционалу потерь сумму квадратов весов, умноженную на коэффициент регуляризации (та самая alpha), мы штрафуем модель за слишком большие значения весов и не позволяем ей переобучаться. Чем больше этот коээфициент, тем сильнее эффект."
   ]
  },
  {
   "cell_type": "markdown",
   "metadata": {},
   "source": [
    "**Обучите две модели на X_train_new, y_train, задав в первой alpha=0.1 и random_state = 1, а во второй alpha=1.0 и random_state = 1**\n",
    "\n",
    "**Рассчитайте среднеквадратичную ошибку каждой модели (mean_squared_error). Сравните значения ошибки на обучающей и тестовой выборках и ответьте на вопросы.**"
   ]
  },
  {
   "cell_type": "markdown",
   "metadata": {},
   "source": [
    "<font color='red'>Вопрос 6.</font> Выберите верные утверждения:\n",
    "- обе модели показывают одинаковый результат (среднеквадратичная ошибка отличается не больше чем на тысячные), регуляризация ничего не меняет\n",
    "- при alpha=0.1 модель переобучается\n",
    "- среднеквадратичная ошибка первой модели на тесте меньше\n",
    "- при alpha=1.0 у модели обобщающая способность лучше, чем у при alpha=0.1"
   ]
  },
  {
   "cell_type": "code",
   "execution_count": 36,
   "metadata": {},
   "outputs": [
    {
     "name": "stdout",
     "output_type": "stream",
     "text": [
      "CPU times: user 14.4 s, sys: 45.6 s, total: 1min\n",
      "Wall time: 7.98 s\n"
     ]
    },
    {
     "data": {
      "text/plain": "Ridge(alpha=0.1, random_state=1)",
      "text/html": "<style>#sk-container-id-1 {color: black;background-color: white;}#sk-container-id-1 pre{padding: 0;}#sk-container-id-1 div.sk-toggleable {background-color: white;}#sk-container-id-1 label.sk-toggleable__label {cursor: pointer;display: block;width: 100%;margin-bottom: 0;padding: 0.3em;box-sizing: border-box;text-align: center;}#sk-container-id-1 label.sk-toggleable__label-arrow:before {content: \"▸\";float: left;margin-right: 0.25em;color: #696969;}#sk-container-id-1 label.sk-toggleable__label-arrow:hover:before {color: black;}#sk-container-id-1 div.sk-estimator:hover label.sk-toggleable__label-arrow:before {color: black;}#sk-container-id-1 div.sk-toggleable__content {max-height: 0;max-width: 0;overflow: hidden;text-align: left;background-color: #f0f8ff;}#sk-container-id-1 div.sk-toggleable__content pre {margin: 0.2em;color: black;border-radius: 0.25em;background-color: #f0f8ff;}#sk-container-id-1 input.sk-toggleable__control:checked~div.sk-toggleable__content {max-height: 200px;max-width: 100%;overflow: auto;}#sk-container-id-1 input.sk-toggleable__control:checked~label.sk-toggleable__label-arrow:before {content: \"▾\";}#sk-container-id-1 div.sk-estimator input.sk-toggleable__control:checked~label.sk-toggleable__label {background-color: #d4ebff;}#sk-container-id-1 div.sk-label input.sk-toggleable__control:checked~label.sk-toggleable__label {background-color: #d4ebff;}#sk-container-id-1 input.sk-hidden--visually {border: 0;clip: rect(1px 1px 1px 1px);clip: rect(1px, 1px, 1px, 1px);height: 1px;margin: -1px;overflow: hidden;padding: 0;position: absolute;width: 1px;}#sk-container-id-1 div.sk-estimator {font-family: monospace;background-color: #f0f8ff;border: 1px dotted black;border-radius: 0.25em;box-sizing: border-box;margin-bottom: 0.5em;}#sk-container-id-1 div.sk-estimator:hover {background-color: #d4ebff;}#sk-container-id-1 div.sk-parallel-item::after {content: \"\";width: 100%;border-bottom: 1px solid gray;flex-grow: 1;}#sk-container-id-1 div.sk-label:hover label.sk-toggleable__label {background-color: #d4ebff;}#sk-container-id-1 div.sk-serial::before {content: \"\";position: absolute;border-left: 1px solid gray;box-sizing: border-box;top: 0;bottom: 0;left: 50%;z-index: 0;}#sk-container-id-1 div.sk-serial {display: flex;flex-direction: column;align-items: center;background-color: white;padding-right: 0.2em;padding-left: 0.2em;position: relative;}#sk-container-id-1 div.sk-item {position: relative;z-index: 1;}#sk-container-id-1 div.sk-parallel {display: flex;align-items: stretch;justify-content: center;background-color: white;position: relative;}#sk-container-id-1 div.sk-item::before, #sk-container-id-1 div.sk-parallel-item::before {content: \"\";position: absolute;border-left: 1px solid gray;box-sizing: border-box;top: 0;bottom: 0;left: 50%;z-index: -1;}#sk-container-id-1 div.sk-parallel-item {display: flex;flex-direction: column;z-index: 1;position: relative;background-color: white;}#sk-container-id-1 div.sk-parallel-item:first-child::after {align-self: flex-end;width: 50%;}#sk-container-id-1 div.sk-parallel-item:last-child::after {align-self: flex-start;width: 50%;}#sk-container-id-1 div.sk-parallel-item:only-child::after {width: 0;}#sk-container-id-1 div.sk-dashed-wrapped {border: 1px dashed gray;margin: 0 0.4em 0.5em 0.4em;box-sizing: border-box;padding-bottom: 0.4em;background-color: white;}#sk-container-id-1 div.sk-label label {font-family: monospace;font-weight: bold;display: inline-block;line-height: 1.2em;}#sk-container-id-1 div.sk-label-container {text-align: center;}#sk-container-id-1 div.sk-container {/* jupyter's `normalize.less` sets `[hidden] { display: none; }` but bootstrap.min.css set `[hidden] { display: none !important; }` so we also need the `!important` here to be able to override the default hidden behavior on the sphinx rendered scikit-learn.org. See: https://github.com/scikit-learn/scikit-learn/issues/21755 */display: inline-block !important;position: relative;}#sk-container-id-1 div.sk-text-repr-fallback {display: none;}</style><div id=\"sk-container-id-1\" class=\"sk-top-container\"><div class=\"sk-text-repr-fallback\"><pre>Ridge(alpha=0.1, random_state=1)</pre><b>In a Jupyter environment, please rerun this cell to show the HTML representation or trust the notebook. <br />On GitHub, the HTML representation is unable to render, please try loading this page with nbviewer.org.</b></div><div class=\"sk-container\" hidden><div class=\"sk-item\"><div class=\"sk-estimator sk-toggleable\"><input class=\"sk-toggleable__control sk-hidden--visually\" id=\"sk-estimator-id-1\" type=\"checkbox\" checked><label for=\"sk-estimator-id-1\" class=\"sk-toggleable__label sk-toggleable__label-arrow\">Ridge</label><div class=\"sk-toggleable__content\"><pre>Ridge(alpha=0.1, random_state=1)</pre></div></div></div></div></div>"
     },
     "execution_count": 36,
     "metadata": {},
     "output_type": "execute_result"
    }
   ],
   "source": [
    "%%time\n",
    "model1 = Ridge(alpha=0.1, random_state=1)  #ваш код здесь\n",
    "model1.fit(X_train_new, y=y_train)  #здесь тоже ваш код"
   ]
  },
  {
   "cell_type": "code",
   "execution_count": 37,
   "metadata": {},
   "outputs": [
    {
     "name": "stdout",
     "output_type": "stream",
     "text": [
      "Ошибка на трейне 0.18466609185064045\n",
      "Ошибка на тесте 0.9027441207828327\n"
     ]
    }
   ],
   "source": [
    "train_preds1 = model1.predict(X_train_new)\n",
    "valid_preds1 = model1.predict(X_valid_new)\n",
    "\n",
    "print('Ошибка на трейне',mean_squared_error(y, train_preds1))\n",
    "print('Ошибка на тесте',mean_squared_error(y_valid, valid_preds1))"
   ]
  },
  {
   "cell_type": "code",
   "execution_count": 38,
   "metadata": {},
   "outputs": [
    {
     "name": "stdout",
     "output_type": "stream",
     "text": [
      "CPU times: user 6.76 s, sys: 22.2 s, total: 29 s\n",
      "Wall time: 3.84 s\n"
     ]
    },
    {
     "data": {
      "text/plain": "Ridge(random_state=1)",
      "text/html": "<style>#sk-container-id-2 {color: black;background-color: white;}#sk-container-id-2 pre{padding: 0;}#sk-container-id-2 div.sk-toggleable {background-color: white;}#sk-container-id-2 label.sk-toggleable__label {cursor: pointer;display: block;width: 100%;margin-bottom: 0;padding: 0.3em;box-sizing: border-box;text-align: center;}#sk-container-id-2 label.sk-toggleable__label-arrow:before {content: \"▸\";float: left;margin-right: 0.25em;color: #696969;}#sk-container-id-2 label.sk-toggleable__label-arrow:hover:before {color: black;}#sk-container-id-2 div.sk-estimator:hover label.sk-toggleable__label-arrow:before {color: black;}#sk-container-id-2 div.sk-toggleable__content {max-height: 0;max-width: 0;overflow: hidden;text-align: left;background-color: #f0f8ff;}#sk-container-id-2 div.sk-toggleable__content pre {margin: 0.2em;color: black;border-radius: 0.25em;background-color: #f0f8ff;}#sk-container-id-2 input.sk-toggleable__control:checked~div.sk-toggleable__content {max-height: 200px;max-width: 100%;overflow: auto;}#sk-container-id-2 input.sk-toggleable__control:checked~label.sk-toggleable__label-arrow:before {content: \"▾\";}#sk-container-id-2 div.sk-estimator input.sk-toggleable__control:checked~label.sk-toggleable__label {background-color: #d4ebff;}#sk-container-id-2 div.sk-label input.sk-toggleable__control:checked~label.sk-toggleable__label {background-color: #d4ebff;}#sk-container-id-2 input.sk-hidden--visually {border: 0;clip: rect(1px 1px 1px 1px);clip: rect(1px, 1px, 1px, 1px);height: 1px;margin: -1px;overflow: hidden;padding: 0;position: absolute;width: 1px;}#sk-container-id-2 div.sk-estimator {font-family: monospace;background-color: #f0f8ff;border: 1px dotted black;border-radius: 0.25em;box-sizing: border-box;margin-bottom: 0.5em;}#sk-container-id-2 div.sk-estimator:hover {background-color: #d4ebff;}#sk-container-id-2 div.sk-parallel-item::after {content: \"\";width: 100%;border-bottom: 1px solid gray;flex-grow: 1;}#sk-container-id-2 div.sk-label:hover label.sk-toggleable__label {background-color: #d4ebff;}#sk-container-id-2 div.sk-serial::before {content: \"\";position: absolute;border-left: 1px solid gray;box-sizing: border-box;top: 0;bottom: 0;left: 50%;z-index: 0;}#sk-container-id-2 div.sk-serial {display: flex;flex-direction: column;align-items: center;background-color: white;padding-right: 0.2em;padding-left: 0.2em;position: relative;}#sk-container-id-2 div.sk-item {position: relative;z-index: 1;}#sk-container-id-2 div.sk-parallel {display: flex;align-items: stretch;justify-content: center;background-color: white;position: relative;}#sk-container-id-2 div.sk-item::before, #sk-container-id-2 div.sk-parallel-item::before {content: \"\";position: absolute;border-left: 1px solid gray;box-sizing: border-box;top: 0;bottom: 0;left: 50%;z-index: -1;}#sk-container-id-2 div.sk-parallel-item {display: flex;flex-direction: column;z-index: 1;position: relative;background-color: white;}#sk-container-id-2 div.sk-parallel-item:first-child::after {align-self: flex-end;width: 50%;}#sk-container-id-2 div.sk-parallel-item:last-child::after {align-self: flex-start;width: 50%;}#sk-container-id-2 div.sk-parallel-item:only-child::after {width: 0;}#sk-container-id-2 div.sk-dashed-wrapped {border: 1px dashed gray;margin: 0 0.4em 0.5em 0.4em;box-sizing: border-box;padding-bottom: 0.4em;background-color: white;}#sk-container-id-2 div.sk-label label {font-family: monospace;font-weight: bold;display: inline-block;line-height: 1.2em;}#sk-container-id-2 div.sk-label-container {text-align: center;}#sk-container-id-2 div.sk-container {/* jupyter's `normalize.less` sets `[hidden] { display: none; }` but bootstrap.min.css set `[hidden] { display: none !important; }` so we also need the `!important` here to be able to override the default hidden behavior on the sphinx rendered scikit-learn.org. See: https://github.com/scikit-learn/scikit-learn/issues/21755 */display: inline-block !important;position: relative;}#sk-container-id-2 div.sk-text-repr-fallback {display: none;}</style><div id=\"sk-container-id-2\" class=\"sk-top-container\"><div class=\"sk-text-repr-fallback\"><pre>Ridge(random_state=1)</pre><b>In a Jupyter environment, please rerun this cell to show the HTML representation or trust the notebook. <br />On GitHub, the HTML representation is unable to render, please try loading this page with nbviewer.org.</b></div><div class=\"sk-container\" hidden><div class=\"sk-item\"><div class=\"sk-estimator sk-toggleable\"><input class=\"sk-toggleable__control sk-hidden--visually\" id=\"sk-estimator-id-2\" type=\"checkbox\" checked><label for=\"sk-estimator-id-2\" class=\"sk-toggleable__label sk-toggleable__label-arrow\">Ridge</label><div class=\"sk-toggleable__content\"><pre>Ridge(random_state=1)</pre></div></div></div></div></div>"
     },
     "execution_count": 38,
     "metadata": {},
     "output_type": "execute_result"
    }
   ],
   "source": [
    "%%time\n",
    "model2 = Ridge(alpha=1.0, random_state=1)#ваш код здесь\n",
    "model2.fit(X_train_new, y=y_train)#здесь тоже ваш код"
   ]
  },
  {
   "cell_type": "code",
   "execution_count": 39,
   "metadata": {},
   "outputs": [
    {
     "name": "stdout",
     "output_type": "stream",
     "text": [
      "Ошибка на трейне 0.28673741862294905\n",
      "Ошибка на тесте 0.7010568971783074\n"
     ]
    }
   ],
   "source": [
    "train_preds2 = model2.predict(X_train_new)\n",
    "valid_preds2 = model2.predict(X_valid_new)\n",
    "\n",
    "print('Ошибка на трейне',mean_squared_error(y_train, train_preds2))\n",
    "print('Ошибка на тесте',mean_squared_error(y_valid, valid_preds2))"
   ]
  },
  {
   "cell_type": "markdown",
   "metadata": {},
   "source": [
    "## Baseline\n",
    "\n",
    "**Теперь попытаемся получить бейзлайн для соревования - используйте Ridge с параметрами по умолчанию и обучите модель на всех данных - соедините X_train_new X_valid_new (используйте scipy.sparse.vstack()), а целевой переменной будет y.**"
   ]
  },
  {
   "cell_type": "code",
   "execution_count": 50,
   "metadata": {},
   "outputs": [
    {
     "name": "stdout",
     "output_type": "stream",
     "text": [
      "CPU times: user 10.1 s, sys: 32.1 s, total: 42.2 s\n",
      "Wall time: 6.3 s\n"
     ]
    },
    {
     "data": {
      "text/plain": "Ridge()",
      "text/html": "<style>#sk-container-id-3 {color: black;background-color: white;}#sk-container-id-3 pre{padding: 0;}#sk-container-id-3 div.sk-toggleable {background-color: white;}#sk-container-id-3 label.sk-toggleable__label {cursor: pointer;display: block;width: 100%;margin-bottom: 0;padding: 0.3em;box-sizing: border-box;text-align: center;}#sk-container-id-3 label.sk-toggleable__label-arrow:before {content: \"▸\";float: left;margin-right: 0.25em;color: #696969;}#sk-container-id-3 label.sk-toggleable__label-arrow:hover:before {color: black;}#sk-container-id-3 div.sk-estimator:hover label.sk-toggleable__label-arrow:before {color: black;}#sk-container-id-3 div.sk-toggleable__content {max-height: 0;max-width: 0;overflow: hidden;text-align: left;background-color: #f0f8ff;}#sk-container-id-3 div.sk-toggleable__content pre {margin: 0.2em;color: black;border-radius: 0.25em;background-color: #f0f8ff;}#sk-container-id-3 input.sk-toggleable__control:checked~div.sk-toggleable__content {max-height: 200px;max-width: 100%;overflow: auto;}#sk-container-id-3 input.sk-toggleable__control:checked~label.sk-toggleable__label-arrow:before {content: \"▾\";}#sk-container-id-3 div.sk-estimator input.sk-toggleable__control:checked~label.sk-toggleable__label {background-color: #d4ebff;}#sk-container-id-3 div.sk-label input.sk-toggleable__control:checked~label.sk-toggleable__label {background-color: #d4ebff;}#sk-container-id-3 input.sk-hidden--visually {border: 0;clip: rect(1px 1px 1px 1px);clip: rect(1px, 1px, 1px, 1px);height: 1px;margin: -1px;overflow: hidden;padding: 0;position: absolute;width: 1px;}#sk-container-id-3 div.sk-estimator {font-family: monospace;background-color: #f0f8ff;border: 1px dotted black;border-radius: 0.25em;box-sizing: border-box;margin-bottom: 0.5em;}#sk-container-id-3 div.sk-estimator:hover {background-color: #d4ebff;}#sk-container-id-3 div.sk-parallel-item::after {content: \"\";width: 100%;border-bottom: 1px solid gray;flex-grow: 1;}#sk-container-id-3 div.sk-label:hover label.sk-toggleable__label {background-color: #d4ebff;}#sk-container-id-3 div.sk-serial::before {content: \"\";position: absolute;border-left: 1px solid gray;box-sizing: border-box;top: 0;bottom: 0;left: 50%;z-index: 0;}#sk-container-id-3 div.sk-serial {display: flex;flex-direction: column;align-items: center;background-color: white;padding-right: 0.2em;padding-left: 0.2em;position: relative;}#sk-container-id-3 div.sk-item {position: relative;z-index: 1;}#sk-container-id-3 div.sk-parallel {display: flex;align-items: stretch;justify-content: center;background-color: white;position: relative;}#sk-container-id-3 div.sk-item::before, #sk-container-id-3 div.sk-parallel-item::before {content: \"\";position: absolute;border-left: 1px solid gray;box-sizing: border-box;top: 0;bottom: 0;left: 50%;z-index: -1;}#sk-container-id-3 div.sk-parallel-item {display: flex;flex-direction: column;z-index: 1;position: relative;background-color: white;}#sk-container-id-3 div.sk-parallel-item:first-child::after {align-self: flex-end;width: 50%;}#sk-container-id-3 div.sk-parallel-item:last-child::after {align-self: flex-start;width: 50%;}#sk-container-id-3 div.sk-parallel-item:only-child::after {width: 0;}#sk-container-id-3 div.sk-dashed-wrapped {border: 1px dashed gray;margin: 0 0.4em 0.5em 0.4em;box-sizing: border-box;padding-bottom: 0.4em;background-color: white;}#sk-container-id-3 div.sk-label label {font-family: monospace;font-weight: bold;display: inline-block;line-height: 1.2em;}#sk-container-id-3 div.sk-label-container {text-align: center;}#sk-container-id-3 div.sk-container {/* jupyter's `normalize.less` sets `[hidden] { display: none; }` but bootstrap.min.css set `[hidden] { display: none !important; }` so we also need the `!important` here to be able to override the default hidden behavior on the sphinx rendered scikit-learn.org. See: https://github.com/scikit-learn/scikit-learn/issues/21755 */display: inline-block !important;position: relative;}#sk-container-id-3 div.sk-text-repr-fallback {display: none;}</style><div id=\"sk-container-id-3\" class=\"sk-top-container\"><div class=\"sk-text-repr-fallback\"><pre>Ridge()</pre><b>In a Jupyter environment, please rerun this cell to show the HTML representation or trust the notebook. <br />On GitHub, the HTML representation is unable to render, please try loading this page with nbviewer.org.</b></div><div class=\"sk-container\" hidden><div class=\"sk-item\"><div class=\"sk-estimator sk-toggleable\"><input class=\"sk-toggleable__control sk-hidden--visually\" id=\"sk-estimator-id-3\" type=\"checkbox\" checked><label for=\"sk-estimator-id-3\" class=\"sk-toggleable__label sk-toggleable__label-arrow\">Ridge</label><div class=\"sk-toggleable__content\"><pre>Ridge()</pre></div></div></div></div></div>"
     },
     "execution_count": 50,
     "metadata": {},
     "output_type": "execute_result"
    }
   ],
   "source": [
    "%%time\n",
    "model = Ridge()  # ваш код здесь\n",
    "\n",
    "# обучите модель на всех данных\n",
    "X_last = scipy.sparse.vstack([X_train_new, X_valid_new])\n",
    "\n",
    "model.fit(X_last, y=y)"
   ]
  },
  {
   "cell_type": "code",
   "execution_count": 49,
   "outputs": [
    {
     "name": "stdout",
     "output_type": "stream",
     "text": [
      "(93895,)\n",
      "(40242,)\n",
      "(134137,)\n"
     ]
    }
   ],
   "source": [
    "print(y_train.shape)\n",
    "print(y_valid.shape)\n",
    "print(y.shape)"
   ],
   "metadata": {
    "collapsed": false
   }
  },
  {
   "cell_type": "code",
   "execution_count": 51,
   "outputs": [],
   "source": [
    "test_preds = model.predict(X_test_new)"
   ],
   "metadata": {
    "collapsed": false
   }
  },
  {
   "cell_type": "code",
   "execution_count": 57,
   "metadata": {},
   "outputs": [],
   "source": [
    "sample_submission = pd.read_csv('habr_sample_submission.csv',\n",
    "                                index_col='url')"
   ]
  },
  {
   "cell_type": "code",
   "execution_count": 58,
   "metadata": {},
   "outputs": [
    {
     "data": {
      "text/plain": "                                                    favs_lognorm\nurl                                                             \nhttps://habrahabr.ru/post/314080/                       0.323588\nhttps://habrahabr.ru/company/plesk/blog/313732/         0.560105\nhttps://habrahabr.ru/company/etagi/blog/314000/         0.667039\nhttps://habrahabr.ru/company/knopka/blog/314030/        0.149563\nhttps://geektimes.ru/company/audiomania/blog/28...      0.670754",
      "text/html": "<div>\n<style scoped>\n    .dataframe tbody tr th:only-of-type {\n        vertical-align: middle;\n    }\n\n    .dataframe tbody tr th {\n        vertical-align: top;\n    }\n\n    .dataframe thead th {\n        text-align: right;\n    }\n</style>\n<table border=\"1\" class=\"dataframe\">\n  <thead>\n    <tr style=\"text-align: right;\">\n      <th></th>\n      <th>favs_lognorm</th>\n    </tr>\n    <tr>\n      <th>url</th>\n      <th></th>\n    </tr>\n  </thead>\n  <tbody>\n    <tr>\n      <th>https://habrahabr.ru/post/314080/</th>\n      <td>0.323588</td>\n    </tr>\n    <tr>\n      <th>https://habrahabr.ru/company/plesk/blog/313732/</th>\n      <td>0.560105</td>\n    </tr>\n    <tr>\n      <th>https://habrahabr.ru/company/etagi/blog/314000/</th>\n      <td>0.667039</td>\n    </tr>\n    <tr>\n      <th>https://habrahabr.ru/company/knopka/blog/314030/</th>\n      <td>0.149563</td>\n    </tr>\n    <tr>\n      <th>https://geektimes.ru/company/audiomania/blog/282058/</th>\n      <td>0.670754</td>\n    </tr>\n  </tbody>\n</table>\n</div>"
     },
     "execution_count": 58,
     "metadata": {},
     "output_type": "execute_result"
    }
   ],
   "source": [
    "sample_submission.head()"
   ]
  },
  {
   "cell_type": "code",
   "execution_count": 63,
   "metadata": {},
   "outputs": [],
   "source": [
    "ridge_submission = sample_submission.copy()\n",
    "ridge_submission['favs_lognorm'] = test_preds\n",
    "# это будет бейзлайн \"Простое решение\"\n",
    "# ridge_submission.to_csv('ridge_baseline.csv')\n",
    "y_test = sample_submission['favs_lognorm']"
   ]
  },
  {
   "cell_type": "code",
   "execution_count": 64,
   "outputs": [
    {
     "data": {
      "text/plain": "0.595451499038441"
     },
     "execution_count": 64,
     "metadata": {},
     "output_type": "execute_result"
    }
   ],
   "source": [
    "mean_squared_error(y_test, test_preds)"
   ],
   "metadata": {
    "collapsed": false
   }
  },
  {
   "cell_type": "code",
   "execution_count": null,
   "outputs": [],
   "source": [],
   "metadata": {
    "collapsed": false
   }
  }
 ],
 "metadata": {
  "anaconda-cloud": {},
  "kernelspec": {
   "display_name": "Python 3",
   "language": "python",
   "name": "python3"
  },
  "language_info": {
   "codemirror_mode": {
    "name": "ipython",
    "version": 3
   },
   "file_extension": ".py",
   "mimetype": "text/x-python",
   "name": "python",
   "nbconvert_exporter": "python",
   "pygments_lexer": "ipython3",
   "version": "3.7.6"
  }
 },
 "nbformat": 4,
 "nbformat_minor": 1
}
